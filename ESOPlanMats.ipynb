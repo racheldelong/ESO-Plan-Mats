{
 "cells": [
  {
   "cell_type": "markdown",
   "metadata": {},
   "source": [
    "# Elder Scrolls Online: Furnishing Plan Materials\n",
    "\n",
    "In early 2017, *The Elder Scrolls Online's* Homestead update added player housing and furnishings. Homes can be bought with gold (ESO's in-game currency) or crowns (ESO's cash currency), and feature a combination of fixed terrain and structures, and furnishings that can be added, removed, and manipulated. Additional furnishings can be added up to a set item limit (depending on the size of the home), and can be bought from npc merchants, looted (rarely) from mobs and containers, or crafted by players. The majority of crafted furnishings can be traded and sold, and make up a large portion of the game's economy.\n",
    "\n",
    "For my Code Kentucky Data Analysis 1 project ([ESO Crafting Material Prices](https://github.com/racheldelong/ESO-Crafting-Material-Prices)), I looked at the price of furniture crafting materials over time and potential explanations for inconsistent price changes. \n",
    "\n",
    "For my Data Analysis 2 project, I'll be analyzing one of those potential explanations in more detail: the demand for materials needed to craft new furnishings added in major content patches. While each crafted furnishing requires multiple types of materials, I'm only going to be focusing on materials used exclusively for crafting furnishings."
   ]
  },
  {
   "cell_type": "markdown",
   "metadata": {},
   "source": [
    "__Objective:__ assess how furnishing plans added in past major content patches would likely affect demand for crafting materials in The Elder Scrolls Online.\n",
    "\n",
    "---"
   ]
  },
  {
   "cell_type": "markdown",
   "metadata": {},
   "source": [
    "#### Import modules"
   ]
  },
  {
   "cell_type": "code",
   "execution_count": 1,
   "metadata": {},
   "outputs": [],
   "source": [
    "# import modules\n",
    "import pandas as pd\n",
    "\n",
    "import requests\n",
    "from bs4 import BeautifulSoup\n",
    "import re\n",
    "\n",
    "import matplotlib.pyplot as plt\n",
    "import matplotlib.dates as mdates\n",
    "from datetime import datetime, timedelta"
   ]
  },
  {
   "cell_type": "markdown",
   "metadata": {},
   "source": [
    "## Data\n",
    "\n",
    "- To create a dataframe of all plans in The Elder Scrolls Online, I'm combining two spreadsheets from Google Sheets: [Tsu's Magical Pricing Assistant](https://docs.google.com/spreadsheets/d/1gA3gLV_trvozQjHANvCWIrzmCMhEGdf6dm7N_U2CYuY/), a tool to help players calculate sales prices for their crafted furnishings, and [ESO Furnishings Helper by Sapphire_Ocelot](https://docs.google.com/spreadsheets/d/11XxNt07znE3cHqWMecO-NxSjNWWnaA8hMA6uDV_53O8/), a tool for tracking which furnishing plans a player has learned. Some furnishing plans are missing in one or the other, and Tsu's Pricing Assistant is missing patch data (while the Furnishings Helper is missing crafting materials). Combining them and removing any duplicates should solve most of the issues with either spreadsheet alone.\n",
    "\n",
    "- For newer plans not yet added to either spreadsheet, I'm using [The Unofficial Elder Scrolls Pages](https://en.uesp.net/wiki/Main_Page) to find all craftable furnishings in the 'druidic' and 'High Isle' styles featured in the Firesong DLC.\n",
    "\n",
    "- Any missing data will be filled via [ESO-Hub.com](https://eso-hub.com/en/housing) furnishing pages, and anything still missing will be added manually via [MMO Fashion](https://eso.mmo-fashion.com/furnishings/).\n",
    "\n",
    "- Patch dates in the ESO Mat Prices Google Sheets file are from either UESP.net or the news section of [The Elder Scrolls Online](https://www.elderscrollsonline.com/en-us/news)."
   ]
  },
  {
   "cell_type": "markdown",
   "metadata": {},
   "source": [
    "##### Import data"
   ]
  },
  {
   "cell_type": "code",
   "execution_count": 2,
   "metadata": {},
   "outputs": [
    {
     "data": {
      "text/html": [
       "<div>\n",
       "<style scoped>\n",
       "    .dataframe tbody tr th:only-of-type {\n",
       "        vertical-align: middle;\n",
       "    }\n",
       "\n",
       "    .dataframe tbody tr th {\n",
       "        vertical-align: top;\n",
       "    }\n",
       "\n",
       "    .dataframe thead th {\n",
       "        text-align: right;\n",
       "    }\n",
       "</style>\n",
       "<table border=\"1\" class=\"dataframe\">\n",
       "  <thead>\n",
       "    <tr style=\"text-align: right;\">\n",
       "      <th></th>\n",
       "      <th>Furniture Name</th>\n",
       "      <th>Y/N</th>\n",
       "      <th>Quality</th>\n",
       "      <th>Crafting Station</th>\n",
       "      <th>Category</th>\n",
       "      <th>Mat1</th>\n",
       "      <th>Q1</th>\n",
       "      <th>MatPrice1</th>\n",
       "      <th>Mat2</th>\n",
       "      <th>Q2</th>\n",
       "      <th>...</th>\n",
       "      <th>MatPrice4</th>\n",
       "      <th>Mat5</th>\n",
       "      <th>Q5</th>\n",
       "      <th>MatPrice5</th>\n",
       "      <th>Mat6</th>\n",
       "      <th>Q6</th>\n",
       "      <th>MatPrice6</th>\n",
       "      <th>Rarity Bonus</th>\n",
       "      <th>Total</th>\n",
       "      <th>Rounded Total</th>\n",
       "    </tr>\n",
       "  </thead>\n",
       "  <tbody>\n",
       "    <tr>\n",
       "      <th>2468</th>\n",
       "      <td>NaN</td>\n",
       "      <td>NaN</td>\n",
       "      <td>NaN</td>\n",
       "      <td>NaN</td>\n",
       "      <td>NaN</td>\n",
       "      <td>NaN</td>\n",
       "      <td>NaN</td>\n",
       "      <td>NaN</td>\n",
       "      <td>NaN</td>\n",
       "      <td>NaN</td>\n",
       "      <td>...</td>\n",
       "      <td>NaN</td>\n",
       "      <td>NaN</td>\n",
       "      <td>NaN</td>\n",
       "      <td>NaN</td>\n",
       "      <td>NaN</td>\n",
       "      <td>NaN</td>\n",
       "      <td>NaN</td>\n",
       "      <td>NaN</td>\n",
       "      <td>0</td>\n",
       "      <td>0</td>\n",
       "    </tr>\n",
       "    <tr>\n",
       "      <th>2469</th>\n",
       "      <td>NaN</td>\n",
       "      <td>NaN</td>\n",
       "      <td>NaN</td>\n",
       "      <td>NaN</td>\n",
       "      <td>NaN</td>\n",
       "      <td>NaN</td>\n",
       "      <td>NaN</td>\n",
       "      <td>NaN</td>\n",
       "      <td>NaN</td>\n",
       "      <td>NaN</td>\n",
       "      <td>...</td>\n",
       "      <td>NaN</td>\n",
       "      <td>NaN</td>\n",
       "      <td>NaN</td>\n",
       "      <td>NaN</td>\n",
       "      <td>NaN</td>\n",
       "      <td>NaN</td>\n",
       "      <td>NaN</td>\n",
       "      <td>NaN</td>\n",
       "      <td>0</td>\n",
       "      <td>0</td>\n",
       "    </tr>\n",
       "    <tr>\n",
       "      <th>2470</th>\n",
       "      <td>NaN</td>\n",
       "      <td>NaN</td>\n",
       "      <td>NaN</td>\n",
       "      <td>NaN</td>\n",
       "      <td>NaN</td>\n",
       "      <td>NaN</td>\n",
       "      <td>NaN</td>\n",
       "      <td>NaN</td>\n",
       "      <td>NaN</td>\n",
       "      <td>NaN</td>\n",
       "      <td>...</td>\n",
       "      <td>NaN</td>\n",
       "      <td>NaN</td>\n",
       "      <td>NaN</td>\n",
       "      <td>NaN</td>\n",
       "      <td>NaN</td>\n",
       "      <td>NaN</td>\n",
       "      <td>NaN</td>\n",
       "      <td>NaN</td>\n",
       "      <td>0</td>\n",
       "      <td>0</td>\n",
       "    </tr>\n",
       "  </tbody>\n",
       "</table>\n",
       "<p>3 rows × 26 columns</p>\n",
       "</div>"
      ],
      "text/plain": [
       "     Furniture Name  Y/N Quality Crafting Station Category Mat1  Q1  \\\n",
       "2468            NaN  NaN     NaN              NaN      NaN  NaN NaN   \n",
       "2469            NaN  NaN     NaN              NaN      NaN  NaN NaN   \n",
       "2470            NaN  NaN     NaN              NaN      NaN  NaN NaN   \n",
       "\n",
       "      MatPrice1 Mat2  Q2  ...  MatPrice4 Mat5  Q5  MatPrice5 Mat6  Q6  \\\n",
       "2468        NaN  NaN NaN  ...        NaN  NaN NaN        NaN  NaN NaN   \n",
       "2469        NaN  NaN NaN  ...        NaN  NaN NaN        NaN  NaN NaN   \n",
       "2470        NaN  NaN NaN  ...        NaN  NaN NaN        NaN  NaN NaN   \n",
       "\n",
       "     MatPrice6 Rarity Bonus  Total  Rounded Total  \n",
       "2468       NaN          NaN      0              0  \n",
       "2469       NaN          NaN      0              0  \n",
       "2470       NaN          NaN      0              0  \n",
       "\n",
       "[3 rows x 26 columns]"
      ]
     },
     "execution_count": 2,
     "metadata": {},
     "output_type": "execute_result"
    }
   ],
   "source": [
    "# import tsu's pricing assistant furniture catalog\n",
    "df1 = pd.read_csv(\"data/FurnitureCatalog.tsv\", sep=\"\\t\")\n",
    "df1.tail(3)"
   ]
  },
  {
   "cell_type": "code",
   "execution_count": 3,
   "metadata": {},
   "outputs": [
    {
     "data": {
      "text/html": [
       "<div>\n",
       "<style scoped>\n",
       "    .dataframe tbody tr th:only-of-type {\n",
       "        vertical-align: middle;\n",
       "    }\n",
       "\n",
       "    .dataframe tbody tr th {\n",
       "        vertical-align: top;\n",
       "    }\n",
       "\n",
       "    .dataframe thead th {\n",
       "        text-align: right;\n",
       "    }\n",
       "</style>\n",
       "<table border=\"1\" class=\"dataframe\">\n",
       "  <thead>\n",
       "    <tr style=\"text-align: right;\">\n",
       "      <th></th>\n",
       "      <th>CRAFTABLE PLANS LIST</th>\n",
       "      <th>Y/N</th>\n",
       "      <th>QUALITY</th>\n",
       "      <th>TYPE</th>\n",
       "      <th>STATION</th>\n",
       "      <th>CATEGORY</th>\n",
       "      <th>STYLE</th>\n",
       "      <th>RELEASE</th>\n",
       "      <th>NOTES</th>\n",
       "    </tr>\n",
       "  </thead>\n",
       "  <tbody>\n",
       "    <tr>\n",
       "      <th>2502</th>\n",
       "      <td>Wood Elf Wall Hide, Fur</td>\n",
       "      <td>NaN</td>\n",
       "      <td>Fine</td>\n",
       "      <td>Pattern</td>\n",
       "      <td>Clothing</td>\n",
       "      <td>Undercroft</td>\n",
       "      <td>Wood Elf</td>\n",
       "      <td>Homestead</td>\n",
       "      <td>NaN</td>\n",
       "    </tr>\n",
       "    <tr>\n",
       "      <th>2503</th>\n",
       "      <td>Wood Elf Wall Hide, Pierced</td>\n",
       "      <td>NaN</td>\n",
       "      <td>Fine</td>\n",
       "      <td>Pattern</td>\n",
       "      <td>Clothing</td>\n",
       "      <td>Undercroft</td>\n",
       "      <td>Wood Elf</td>\n",
       "      <td>Homestead</td>\n",
       "      <td>NaN</td>\n",
       "    </tr>\n",
       "    <tr>\n",
       "      <th>2504</th>\n",
       "      <td>Wood Elf Wall Hide, Spotted</td>\n",
       "      <td>NaN</td>\n",
       "      <td>Fine</td>\n",
       "      <td>Pattern</td>\n",
       "      <td>Clothing</td>\n",
       "      <td>Undercroft</td>\n",
       "      <td>Wood Elf</td>\n",
       "      <td>Homestead</td>\n",
       "      <td>NaN</td>\n",
       "    </tr>\n",
       "  </tbody>\n",
       "</table>\n",
       "</div>"
      ],
      "text/plain": [
       "             CRAFTABLE PLANS LIST  Y/N QUALITY     TYPE   STATION    CATEGORY  \\\n",
       "2502      Wood Elf Wall Hide, Fur  NaN    Fine  Pattern  Clothing  Undercroft   \n",
       "2503  Wood Elf Wall Hide, Pierced  NaN    Fine  Pattern  Clothing  Undercroft   \n",
       "2504  Wood Elf Wall Hide, Spotted  NaN    Fine  Pattern  Clothing  Undercroft   \n",
       "\n",
       "         STYLE    RELEASE NOTES  \n",
       "2502  Wood Elf  Homestead   NaN  \n",
       "2503  Wood Elf  Homestead   NaN  \n",
       "2504  Wood Elf  Homestead   NaN  "
      ]
     },
     "execution_count": 3,
     "metadata": {},
     "output_type": "execute_result"
    }
   ],
   "source": [
    "# import eso furnishing helper plans\n",
    "df2 = pd.read_csv(\"data/Furnishings_Helper_Plans.tsv\", sep=\"\\t\")\n",
    "df2.tail(3)"
   ]
  },
  {
   "cell_type": "code",
   "execution_count": 4,
   "metadata": {},
   "outputs": [
    {
     "data": {
      "text/html": [
       "<div>\n",
       "<style scoped>\n",
       "    .dataframe tbody tr th:only-of-type {\n",
       "        vertical-align: middle;\n",
       "    }\n",
       "\n",
       "    .dataframe tbody tr th {\n",
       "        vertical-align: top;\n",
       "    }\n",
       "\n",
       "    .dataframe thead th {\n",
       "        text-align: right;\n",
       "    }\n",
       "</style>\n",
       "<table border=\"1\" class=\"dataframe\">\n",
       "  <thead>\n",
       "    <tr style=\"text-align: right;\">\n",
       "      <th></th>\n",
       "      <th>Update</th>\n",
       "      <th>Patch</th>\n",
       "      <th>Release</th>\n",
       "      <th>PTS</th>\n",
       "    </tr>\n",
       "  </thead>\n",
       "  <tbody>\n",
       "    <tr>\n",
       "      <th>21</th>\n",
       "      <td>34</td>\n",
       "      <td>High Isle</td>\n",
       "      <td>06-06-22</td>\n",
       "      <td>04-18-22</td>\n",
       "    </tr>\n",
       "    <tr>\n",
       "      <th>22</th>\n",
       "      <td>35</td>\n",
       "      <td>Lost Depths</td>\n",
       "      <td>08-22-22</td>\n",
       "      <td>07-11-22</td>\n",
       "    </tr>\n",
       "    <tr>\n",
       "      <th>23</th>\n",
       "      <td>36</td>\n",
       "      <td>Firesong</td>\n",
       "      <td>11-01-22</td>\n",
       "      <td>09-19-22</td>\n",
       "    </tr>\n",
       "  </tbody>\n",
       "</table>\n",
       "</div>"
      ],
      "text/plain": [
       "    Update        Patch   Release       PTS\n",
       "21      34    High Isle  06-06-22  04-18-22\n",
       "22      35  Lost Depths  08-22-22  07-11-22\n",
       "23      36     Firesong  11-01-22  09-19-22"
      ]
     },
     "execution_count": 4,
     "metadata": {},
     "output_type": "execute_result"
    }
   ],
   "source": [
    "# import eso mat prices patches\n",
    "sheet_id = \"15ooJmi30BiE3ZhbNsGNG0Ct2gL-tRcoFMbLKLjQGqbU\"\n",
    "sheet_name = \"patches\"\n",
    "\n",
    "url = f\"https://docs.google.com/spreadsheets/d/{sheet_id}/gviz/tq?tqx=out:csv&sheet={sheet_name}\"\n",
    "\n",
    "df3 = pd.read_csv(url)\n",
    "df3.tail(3)"
   ]
  },
  {
   "cell_type": "markdown",
   "metadata": {},
   "source": [
    "### Clean data"
   ]
  },
  {
   "cell_type": "code",
   "execution_count": 5,
   "metadata": {},
   "outputs": [],
   "source": [
    "# replace misspelled plan names, and remove item that's no longer craftable\n",
    "def update_items(df):\n",
    "    \"\"\"Correct typos and items that were changed after being released.\"\"\"\n",
    "    \n",
    "    updated_names = {\n",
    "        \"Azura\" : \"Azure\", \n",
    "        \"Wrough-Iron\" : \"Wrought-Iron\", \n",
    "        \"Reachman\" : \"Reachmen\", \n",
    "        \"Leyawiin Cabinet, Formal\" : \"Leyawiin Wardrobe, Formal\",\n",
    "        \"Murkmire Lamp, Shell\" : \"Murkmire Candle, Standing Shell\",\n",
    "        \"Solitude Cabinet, Narrow Open Filled\" : \"Solitude Bookcase, Narrow Open Filled\"}\n",
    "\n",
    "    for key, value in updated_names.items():\n",
    "        df['Name'] = df['Name'].str.replace(key, value)\n",
    "\n",
    "    # remove--no longer craftable\n",
    "    df = df[df[\"Name\"].str.contains('Khajiit Statue, Guardian') == False]\n",
    "    df = df.reset_index(drop=True)\n",
    "\n",
    "    return df"
   ]
  },
  {
   "cell_type": "code",
   "execution_count": 6,
   "metadata": {},
   "outputs": [],
   "source": [
    "# housing material names w/ shortened column names\n",
    "mat_names = {\n",
    "    \"Regulus\": \"Regulus\",\n",
    "    \"Bast\": \"Bast\",\n",
    "    \"Heartwood\": \"Wood\",\n",
    "    \"Ochre\": \"Ochre\",\n",
    "    \"Alchemical Resin\": \"Resin\",\n",
    "    \"Mundane Rune\": \"Rune\",\n",
    "    \"Decorative Wax\": \"Wax\",\n",
    "    \"Clean Pelt\": \"Pelt\",\n",
    "}"
   ]
  },
  {
   "cell_type": "markdown",
   "metadata": {},
   "source": [
    "##### df1"
   ]
  },
  {
   "cell_type": "markdown",
   "metadata": {},
   "source": [
    "###### Create and fill columns for housing material quantities from Mat1 - Mat6 columns"
   ]
  },
  {
   "cell_type": "code",
   "execution_count": 7,
   "metadata": {},
   "outputs": [
    {
     "data": {
      "text/html": [
       "<div>\n",
       "<style scoped>\n",
       "    .dataframe tbody tr th:only-of-type {\n",
       "        vertical-align: middle;\n",
       "    }\n",
       "\n",
       "    .dataframe tbody tr th {\n",
       "        vertical-align: top;\n",
       "    }\n",
       "\n",
       "    .dataframe thead th {\n",
       "        text-align: right;\n",
       "    }\n",
       "</style>\n",
       "<table border=\"1\" class=\"dataframe\">\n",
       "  <thead>\n",
       "    <tr style=\"text-align: right;\">\n",
       "      <th></th>\n",
       "      <th>Furniture Name</th>\n",
       "      <th>Y/N</th>\n",
       "      <th>Quality</th>\n",
       "      <th>Crafting Station</th>\n",
       "      <th>Category</th>\n",
       "      <th>Mat1</th>\n",
       "      <th>Q1</th>\n",
       "      <th>MatPrice1</th>\n",
       "      <th>Mat2</th>\n",
       "      <th>Q2</th>\n",
       "      <th>...</th>\n",
       "      <th>Total</th>\n",
       "      <th>Rounded Total</th>\n",
       "      <th>Resin</th>\n",
       "      <th>Wax</th>\n",
       "      <th>Ochre</th>\n",
       "      <th>Rune</th>\n",
       "      <th>Wood</th>\n",
       "      <th>Regulus</th>\n",
       "      <th>Bast</th>\n",
       "      <th>Pelt</th>\n",
       "    </tr>\n",
       "  </thead>\n",
       "  <tbody>\n",
       "    <tr>\n",
       "      <th>0</th>\n",
       "      <td>Alchemical Apparatus, Condenser</td>\n",
       "      <td>NaN</td>\n",
       "      <td>Legendary</td>\n",
       "      <td>Alchemy</td>\n",
       "      <td>Workshop</td>\n",
       "      <td>Alchemical Resin</td>\n",
       "      <td>13.0</td>\n",
       "      <td>30.0</td>\n",
       "      <td>Regulus</td>\n",
       "      <td>15.0</td>\n",
       "      <td>...</td>\n",
       "      <td>15025</td>\n",
       "      <td>16000</td>\n",
       "      <td>13.0</td>\n",
       "      <td>NaN</td>\n",
       "      <td>9.0</td>\n",
       "      <td>NaN</td>\n",
       "      <td>NaN</td>\n",
       "      <td>15.0</td>\n",
       "      <td>NaN</td>\n",
       "      <td>NaN</td>\n",
       "    </tr>\n",
       "    <tr>\n",
       "      <th>1</th>\n",
       "      <td>Alchemical Apparatus, Master</td>\n",
       "      <td>NaN</td>\n",
       "      <td>Legendary</td>\n",
       "      <td>Alchemy</td>\n",
       "      <td>Workshop</td>\n",
       "      <td>Alchemical Resin</td>\n",
       "      <td>13.0</td>\n",
       "      <td>30.0</td>\n",
       "      <td>Regulus</td>\n",
       "      <td>15.0</td>\n",
       "      <td>...</td>\n",
       "      <td>28225</td>\n",
       "      <td>29000</td>\n",
       "      <td>13.0</td>\n",
       "      <td>NaN</td>\n",
       "      <td>9.0</td>\n",
       "      <td>11.0</td>\n",
       "      <td>NaN</td>\n",
       "      <td>15.0</td>\n",
       "      <td>NaN</td>\n",
       "      <td>NaN</td>\n",
       "    </tr>\n",
       "    <tr>\n",
       "      <th>2</th>\n",
       "      <td>Alinor Amphora, Delicate</td>\n",
       "      <td>NaN</td>\n",
       "      <td>Fine</td>\n",
       "      <td>Provisioning</td>\n",
       "      <td>Hearth</td>\n",
       "      <td>Decorative Wax</td>\n",
       "      <td>5.0</td>\n",
       "      <td>750.0</td>\n",
       "      <td>Mundane Rune</td>\n",
       "      <td>5.0</td>\n",
       "      <td>...</td>\n",
       "      <td>15510</td>\n",
       "      <td>16000</td>\n",
       "      <td>NaN</td>\n",
       "      <td>5.0</td>\n",
       "      <td>4.0</td>\n",
       "      <td>5.0</td>\n",
       "      <td>NaN</td>\n",
       "      <td>NaN</td>\n",
       "      <td>NaN</td>\n",
       "      <td>NaN</td>\n",
       "    </tr>\n",
       "  </tbody>\n",
       "</table>\n",
       "<p>3 rows × 34 columns</p>\n",
       "</div>"
      ],
      "text/plain": [
       "                    Furniture Name  Y/N    Quality Crafting Station  Category  \\\n",
       "0  Alchemical Apparatus, Condenser  NaN  Legendary          Alchemy  Workshop   \n",
       "1     Alchemical Apparatus, Master  NaN  Legendary          Alchemy  Workshop   \n",
       "2         Alinor Amphora, Delicate  NaN       Fine     Provisioning    Hearth   \n",
       "\n",
       "               Mat1    Q1  MatPrice1          Mat2    Q2  ...  Total  \\\n",
       "0  Alchemical Resin  13.0       30.0       Regulus  15.0  ...  15025   \n",
       "1  Alchemical Resin  13.0       30.0       Regulus  15.0  ...  28225   \n",
       "2    Decorative Wax   5.0      750.0  Mundane Rune   5.0  ...  15510   \n",
       "\n",
       "  Rounded Total  Resin  Wax Ochre  Rune Wood Regulus  Bast  Pelt  \n",
       "0         16000   13.0  NaN   9.0   NaN  NaN    15.0   NaN   NaN  \n",
       "1         29000   13.0  NaN   9.0  11.0  NaN    15.0   NaN   NaN  \n",
       "2         16000    NaN  5.0   4.0   5.0  NaN     NaN   NaN   NaN  \n",
       "\n",
       "[3 rows x 34 columns]"
      ]
     },
     "execution_count": 7,
     "metadata": {},
     "output_type": "execute_result"
    }
   ],
   "source": [
    "# move mat quantities to new columns\n",
    "for i in range(6):\n",
    "    \n",
    "    # generate numbered column names\n",
    "    df_mat = \"Mat\" + str(i + 1)\n",
    "    df_quant = \"Q\" + str(i + 1)\n",
    "\n",
    "    # check the values in the generated column name\n",
    "    for row, value in enumerate(df1[df_mat]):\n",
    "\n",
    "        # check if material is a housing mat\n",
    "        if value in mat_names:\n",
    "\n",
    "            # add quantity to mat column\n",
    "            df1.at[row, mat_names[value]] = df1.at[row, df_quant]\n",
    "\n",
    "df1.head(3)"
   ]
  },
  {
   "cell_type": "markdown",
   "metadata": {},
   "source": [
    "###### Rename columns, update outdated item names, remove irrelevant columns, and drop empty rows."
   ]
  },
  {
   "cell_type": "code",
   "execution_count": 8,
   "metadata": {},
   "outputs": [
    {
     "data": {
      "text/html": [
       "<div>\n",
       "<style scoped>\n",
       "    .dataframe tbody tr th:only-of-type {\n",
       "        vertical-align: middle;\n",
       "    }\n",
       "\n",
       "    .dataframe tbody tr th {\n",
       "        vertical-align: top;\n",
       "    }\n",
       "\n",
       "    .dataframe thead th {\n",
       "        text-align: right;\n",
       "    }\n",
       "</style>\n",
       "<table border=\"1\" class=\"dataframe\">\n",
       "  <thead>\n",
       "    <tr style=\"text-align: right;\">\n",
       "      <th></th>\n",
       "      <th>Name</th>\n",
       "      <th>Quality</th>\n",
       "      <th>Category</th>\n",
       "      <th>Resin</th>\n",
       "      <th>Wax</th>\n",
       "      <th>Ochre</th>\n",
       "      <th>Rune</th>\n",
       "      <th>Wood</th>\n",
       "      <th>Regulus</th>\n",
       "      <th>Bast</th>\n",
       "      <th>Pelt</th>\n",
       "    </tr>\n",
       "  </thead>\n",
       "  <tbody>\n",
       "    <tr>\n",
       "      <th>2400</th>\n",
       "      <td>Wood Elf Wall Hide, Fur</td>\n",
       "      <td>Fine</td>\n",
       "      <td>Undercroft</td>\n",
       "      <td>NaN</td>\n",
       "      <td>NaN</td>\n",
       "      <td>NaN</td>\n",
       "      <td>NaN</td>\n",
       "      <td>NaN</td>\n",
       "      <td>NaN</td>\n",
       "      <td>NaN</td>\n",
       "      <td>6.0</td>\n",
       "    </tr>\n",
       "    <tr>\n",
       "      <th>2401</th>\n",
       "      <td>Wood Elf Wall Hide, Pierced</td>\n",
       "      <td>Fine</td>\n",
       "      <td>Undercroft</td>\n",
       "      <td>NaN</td>\n",
       "      <td>NaN</td>\n",
       "      <td>NaN</td>\n",
       "      <td>NaN</td>\n",
       "      <td>NaN</td>\n",
       "      <td>NaN</td>\n",
       "      <td>NaN</td>\n",
       "      <td>7.0</td>\n",
       "    </tr>\n",
       "    <tr>\n",
       "      <th>2402</th>\n",
       "      <td>Wood Elf Wall Hide, Spotted</td>\n",
       "      <td>Fine</td>\n",
       "      <td>Undercroft</td>\n",
       "      <td>NaN</td>\n",
       "      <td>NaN</td>\n",
       "      <td>NaN</td>\n",
       "      <td>NaN</td>\n",
       "      <td>NaN</td>\n",
       "      <td>NaN</td>\n",
       "      <td>NaN</td>\n",
       "      <td>7.0</td>\n",
       "    </tr>\n",
       "  </tbody>\n",
       "</table>\n",
       "</div>"
      ],
      "text/plain": [
       "                             Name Quality    Category  Resin  Wax  Ochre  \\\n",
       "2400      Wood Elf Wall Hide, Fur    Fine  Undercroft    NaN  NaN    NaN   \n",
       "2401  Wood Elf Wall Hide, Pierced    Fine  Undercroft    NaN  NaN    NaN   \n",
       "2402  Wood Elf Wall Hide, Spotted    Fine  Undercroft    NaN  NaN    NaN   \n",
       "\n",
       "      Rune  Wood  Regulus  Bast  Pelt  \n",
       "2400   NaN   NaN      NaN   NaN   6.0  \n",
       "2401   NaN   NaN      NaN   NaN   7.0  \n",
       "2402   NaN   NaN      NaN   NaN   7.0  "
      ]
     },
     "execution_count": 8,
     "metadata": {},
     "output_type": "execute_result"
    }
   ],
   "source": [
    "# rename columns\n",
    "df1.rename(\n",
    "    columns={\"Furniture Name\": \"Name\"}, inplace=True\n",
    ")\n",
    "\n",
    "# correct old item names\n",
    "df1 = update_items(df1)\n",
    "\n",
    "# remove pricing-related columns\n",
    "cols_to_drop = [\"Y/N\", \"Rarity Bonus\", \"Total\", \"Rounded Total\", \"Crafting Station\"]\n",
    "\n",
    "# add numbered mat columns to list of cols to remove\n",
    "for i in range(6):\n",
    "    # create numbered column names\n",
    "    df_price = \"MatPrice\" + str(i + 1)\n",
    "    df_mat = \"Mat\" + str(i + 1)\n",
    "    df_quant = \"Q\" + str(i + 1)\n",
    "\n",
    "    cols_to_drop = cols_to_drop + [df_price, df_mat, df_quant]\n",
    "\n",
    "# remove cols\n",
    "df1 = df1.drop(columns=cols_to_drop)\n",
    "\n",
    "# remove any rows where all values are NaN\n",
    "df1 = df1.dropna(how=\"all\")\n",
    "\n",
    "df1.tail(3)"
   ]
  },
  {
   "cell_type": "markdown",
   "metadata": {},
   "source": [
    "##### df2"
   ]
  },
  {
   "cell_type": "markdown",
   "metadata": {},
   "source": [
    "###### Rename columns, replace outdated item names, replace unicode character, remove irrelevant columns, and drop empty rows."
   ]
  },
  {
   "cell_type": "code",
   "execution_count": 9,
   "metadata": {},
   "outputs": [
    {
     "data": {
      "text/html": [
       "<div>\n",
       "<style scoped>\n",
       "    .dataframe tbody tr th:only-of-type {\n",
       "        vertical-align: middle;\n",
       "    }\n",
       "\n",
       "    .dataframe tbody tr th {\n",
       "        vertical-align: top;\n",
       "    }\n",
       "\n",
       "    .dataframe thead th {\n",
       "        text-align: right;\n",
       "    }\n",
       "</style>\n",
       "<table border=\"1\" class=\"dataframe\">\n",
       "  <thead>\n",
       "    <tr style=\"text-align: right;\">\n",
       "      <th></th>\n",
       "      <th>Name</th>\n",
       "      <th>Quality</th>\n",
       "      <th>Category</th>\n",
       "      <th>Patch</th>\n",
       "    </tr>\n",
       "  </thead>\n",
       "  <tbody>\n",
       "    <tr>\n",
       "      <th>2502</th>\n",
       "      <td>Wood Elf Wall Hide, Fur</td>\n",
       "      <td>Fine</td>\n",
       "      <td>Undercroft</td>\n",
       "      <td>Homestead</td>\n",
       "    </tr>\n",
       "    <tr>\n",
       "      <th>2503</th>\n",
       "      <td>Wood Elf Wall Hide, Pierced</td>\n",
       "      <td>Fine</td>\n",
       "      <td>Undercroft</td>\n",
       "      <td>Homestead</td>\n",
       "    </tr>\n",
       "    <tr>\n",
       "      <th>2504</th>\n",
       "      <td>Wood Elf Wall Hide, Spotted</td>\n",
       "      <td>Fine</td>\n",
       "      <td>Undercroft</td>\n",
       "      <td>Homestead</td>\n",
       "    </tr>\n",
       "  </tbody>\n",
       "</table>\n",
       "</div>"
      ],
      "text/plain": [
       "                             Name Quality    Category      Patch\n",
       "2502      Wood Elf Wall Hide, Fur    Fine  Undercroft  Homestead\n",
       "2503  Wood Elf Wall Hide, Pierced    Fine  Undercroft  Homestead\n",
       "2504  Wood Elf Wall Hide, Spotted    Fine  Undercroft  Homestead"
      ]
     },
     "execution_count": 9,
     "metadata": {},
     "output_type": "execute_result"
    }
   ],
   "source": [
    "# change column names\n",
    "df2 = df2.rename(\n",
    "    columns={\n",
    "        \"CRAFTABLE PLANS LIST\": \"Name\",\n",
    "        \"CATEGORY\": \"Category\",\n",
    "        \"RELEASE\": \"Patch\",\n",
    "        \"QUALITY\": \"Quality\"\n",
    "    }\n",
    ")\n",
    "\n",
    "# fix old item names\n",
    "df2 = update_items(df2)\n",
    "\n",
    "# remove invisible unicode character\n",
    "df2 = df2.replace(to_replace=\"\\xa0\", value=\" \", regex=True)\n",
    "\n",
    "# remove irrelevant columns\n",
    "df2.drop(columns=[\"Y/N\", \"TYPE\", \"STYLE\", \"NOTES\", 'STATION'], inplace=True)\n",
    "\n",
    "# remove empty rows\n",
    "df2 = df2.dropna(how=\"all\")\n",
    "\n",
    "df2.tail(3)"
   ]
  },
  {
   "cell_type": "markdown",
   "metadata": {},
   "source": [
    "###### Merge df2 'Patch' values with overlapping df1 plan names, and remove overlapping plans from df2."
   ]
  },
  {
   "cell_type": "code",
   "execution_count": 10,
   "metadata": {},
   "outputs": [
    {
     "data": {
      "text/plain": [
       "(106, 4)"
      ]
     },
     "execution_count": 10,
     "metadata": {},
     "output_type": "execute_result"
    }
   ],
   "source": [
    "# left merge df2 plans to add patch values to plans\n",
    "df1 = df1.merge(df2[[\"Name\", \"Patch\"]], how=\"left\", on=[\"Name\"])\n",
    "\n",
    "# remove anything in df1 from df2\n",
    "df2 = df2[~df2[\"Name\"].isin(df1[\"Name\"])]\n",
    "df2 = df2.reset_index(drop=True)\n",
    "\n",
    "df2.shape"
   ]
  },
  {
   "cell_type": "markdown",
   "metadata": {},
   "source": [
    "##### df3"
   ]
  },
  {
   "cell_type": "markdown",
   "metadata": {},
   "source": [
    "###### Convert release date column to datetime and use to sort patches. Drop the PTS column, and replace nan values."
   ]
  },
  {
   "cell_type": "code",
   "execution_count": 11,
   "metadata": {},
   "outputs": [
    {
     "data": {
      "text/html": [
       "<div>\n",
       "<style scoped>\n",
       "    .dataframe tbody tr th:only-of-type {\n",
       "        vertical-align: middle;\n",
       "    }\n",
       "\n",
       "    .dataframe tbody tr th {\n",
       "        vertical-align: top;\n",
       "    }\n",
       "\n",
       "    .dataframe thead th {\n",
       "        text-align: right;\n",
       "    }\n",
       "</style>\n",
       "<table border=\"1\" class=\"dataframe\">\n",
       "  <thead>\n",
       "    <tr style=\"text-align: right;\">\n",
       "      <th></th>\n",
       "      <th>Update</th>\n",
       "      <th>Patch</th>\n",
       "      <th>Release</th>\n",
       "    </tr>\n",
       "  </thead>\n",
       "  <tbody>\n",
       "    <tr>\n",
       "      <th>0</th>\n",
       "      <td>13</td>\n",
       "      <td>Homestead</td>\n",
       "      <td>2017-02-06</td>\n",
       "    </tr>\n",
       "    <tr>\n",
       "      <th>1</th>\n",
       "      <td>14</td>\n",
       "      <td>Morrowind</td>\n",
       "      <td>2017-06-05</td>\n",
       "    </tr>\n",
       "    <tr>\n",
       "      <th>2</th>\n",
       "      <td>15</td>\n",
       "      <td>Horns of the Reach</td>\n",
       "      <td>2017-08-14</td>\n",
       "    </tr>\n",
       "  </tbody>\n",
       "</table>\n",
       "</div>"
      ],
      "text/plain": [
       "   Update               Patch    Release\n",
       "0      13           Homestead 2017-02-06\n",
       "1      14           Morrowind 2017-06-05\n",
       "2      15  Horns of the Reach 2017-08-14"
      ]
     },
     "execution_count": 11,
     "metadata": {},
     "output_type": "execute_result"
    }
   ],
   "source": [
    "# convert patch release date column to datetime\n",
    "df3[\"Release\"] = pd.to_datetime(df3[\"Release\"])\n",
    "\n",
    "# sort patches by date released\n",
    "df3 = df3.sort_values(by=[\"Release\"])\n",
    "\n",
    "# drop pts column (used for ESO Mat Prices project)\n",
    "df3 = df3.drop(columns=['PTS'])\n",
    "\n",
    "# fill missing values\n",
    "df3 = df3.fillna('-')\n",
    "\n",
    "df3.head(3)"
   ]
  },
  {
   "cell_type": "markdown",
   "metadata": {},
   "source": [
    "###### Remove Homestead patch to focus on additional content added in later updates."
   ]
  },
  {
   "cell_type": "code",
   "execution_count": 12,
   "metadata": {},
   "outputs": [
    {
     "data": {
      "text/html": [
       "<div>\n",
       "<style scoped>\n",
       "    .dataframe tbody tr th:only-of-type {\n",
       "        vertical-align: middle;\n",
       "    }\n",
       "\n",
       "    .dataframe tbody tr th {\n",
       "        vertical-align: top;\n",
       "    }\n",
       "\n",
       "    .dataframe thead th {\n",
       "        text-align: right;\n",
       "    }\n",
       "</style>\n",
       "<table border=\"1\" class=\"dataframe\">\n",
       "  <thead>\n",
       "    <tr style=\"text-align: right;\">\n",
       "      <th></th>\n",
       "      <th>Update</th>\n",
       "      <th>Patch</th>\n",
       "      <th>Release</th>\n",
       "    </tr>\n",
       "  </thead>\n",
       "  <tbody>\n",
       "    <tr>\n",
       "      <th>0</th>\n",
       "      <td>14</td>\n",
       "      <td>Morrowind</td>\n",
       "      <td>2017-06-05</td>\n",
       "    </tr>\n",
       "    <tr>\n",
       "      <th>1</th>\n",
       "      <td>15</td>\n",
       "      <td>Horns of the Reach</td>\n",
       "      <td>2017-08-14</td>\n",
       "    </tr>\n",
       "    <tr>\n",
       "      <th>2</th>\n",
       "      <td>16</td>\n",
       "      <td>Clockwork City</td>\n",
       "      <td>2017-10-23</td>\n",
       "    </tr>\n",
       "  </tbody>\n",
       "</table>\n",
       "</div>"
      ],
      "text/plain": [
       "   Update               Patch    Release\n",
       "0      14           Morrowind 2017-06-05\n",
       "1      15  Horns of the Reach 2017-08-14\n",
       "2      16      Clockwork City 2017-10-23"
      ]
     },
     "execution_count": 12,
     "metadata": {},
     "output_type": "execute_result"
    }
   ],
   "source": [
    "# create patches df without homestead data\n",
    "patches = df3.drop(0)\n",
    "patches = patches.reset_index(drop=True)\n",
    "\n",
    "patches.head(3)"
   ]
  },
  {
   "cell_type": "markdown",
   "metadata": {},
   "source": [
    "#### Get missing data"
   ]
  },
  {
   "cell_type": "code",
   "execution_count": 13,
   "metadata": {},
   "outputs": [],
   "source": [
    "def find_text(source, start_str, end_str):\n",
    "    \"\"\"Return text between start_str and end_str from source.\"\"\"\n",
    "    \n",
    "    # get the location of the end of start_str in source\n",
    "    match = re.search(start_str, source)\n",
    "    index = match.end()\n",
    "\n",
    "    # use index as beginning of filtered string\n",
    "    filtered_str = source[index:]\n",
    "\n",
    "    # get the location of the start of end_str in source\n",
    "    match = re.search(end_str, filtered_str)\n",
    "    index = match.start()\n",
    "\n",
    "    # use index as end of filtered string\n",
    "    filtered_str = filtered_str[:index]\n",
    "\n",
    "    return filtered_str"
   ]
  },
  {
   "cell_type": "code",
   "execution_count": 14,
   "metadata": {},
   "outputs": [],
   "source": [
    "def mat_cols(mat_list):\n",
    "    \"\"\"Return a dictionary of column values from a list of material quantity strings.\"\"\"\n",
    "    # dictionary for returned values\n",
    "    mat_col = {}\n",
    "\n",
    "    for material in mat_list:\n",
    "        for mat_name in mat_names.keys():\n",
    "\n",
    "            # check for housing materials\n",
    "            if mat_name in material:\n",
    "                \n",
    "                # remove material name and space before quantity\n",
    "                regex_str = mat_name + \" \"\n",
    "                quantity = re.sub(regex_str, \"\", material)\n",
    "                # convert remaining material string to integer and set as quantity\n",
    "                quantity = int(quantity)\n",
    "                # use shortened material name as key and add to dictionary\n",
    "                mat_col[mat_names[mat_name]] = quantity\n",
    "\n",
    "    return mat_col"
   ]
  },
  {
   "cell_type": "code",
   "execution_count": 15,
   "metadata": {},
   "outputs": [],
   "source": [
    "def get_cols(plan_name):\n",
    "    \"\"\"Return a dictionary of column values for a plan.\"\"\"\n",
    "    # create url for plan from Name value\n",
    "    # remove commas and replace spaces with dashes\n",
    "    plan_str = plan_name.replace(\",\", \"\")\n",
    "    plan_str = plan_str.replace(\" \", \"-\")\n",
    "\n",
    "    # convert to lowercase\n",
    "    plan_str = plan_str.lower()\n",
    "\n",
    "    # create ESO-Hub plan url\n",
    "    # (ESO-Hub plan pages were significantly easier to work with than UESP's)\n",
    "    plan_url = f\"https://eso-hub.com/en/furniture/{plan_str}\"\n",
    "\n",
    "    # get all text from url\n",
    "    page = requests.get(plan_url)\n",
    "    data = BeautifulSoup(page.content, \"html.parser\")\n",
    "    data = data.get_text()\n",
    "\n",
    "    # get column data from text\n",
    "    \n",
    "    plan_info = {}\n",
    "\n",
    "    # name column\n",
    "    plan_info[\"Name\"] = plan_name\n",
    "\n",
    "    # patch column\n",
    "    dlc_str = \"added to the game with the \"\n",
    "\n",
    "    if dlc_str in data:\n",
    "        plan_patch = find_text(data, dlc_str, \" DLC\")\n",
    "        plan_info[\"Patch\"] = plan_patch\n",
    "\n",
    "    # category column\n",
    "    cat_str = \"ESO Housing Library - All Housing Items\\n\"\n",
    "\n",
    "    if cat_str in data:\n",
    "        plan_cat = find_text(data, cat_str, \"\\n\")\n",
    "        plan_info[\"Category\"] = plan_cat\n",
    "\n",
    "    # quality column\n",
    "    qual_str = \"Quality:\"\n",
    "\n",
    "    if qual_str in data:\n",
    "        plan_qual = find_text(data, qual_str, \"\\n\")\n",
    "        plan_info[\"Quality\"] = plan_qual\n",
    "\n",
    "    # material columns\n",
    "    plan_mats = {}\n",
    "\n",
    "    mat_str = \"Ingredients\"\n",
    "\n",
    "    if mat_str in data:\n",
    "\n",
    "        plan_mats = find_text(data, mat_str, \"Required skills:\")\n",
    "\n",
    "        # fix formatting, remove parentheses and extra whitespace\n",
    "        plan_mats = re.sub(\":\\s+|\\(|\\)\\s$|\\)\", \"\", plan_mats)\n",
    "\n",
    "        # convert into list\n",
    "        plan_mats = plan_mats.splitlines()\n",
    "\n",
    "        # create key:val pairs for columns and mat quantities\n",
    "        plan_mats = mat_cols(plan_mats)\n",
    "\n",
    "    # combine plan_info and plan_mats dictionaries\n",
    "    plan_cols = plan_info | plan_mats\n",
    "\n",
    "    return plan_cols"
   ]
  },
  {
   "cell_type": "code",
   "execution_count": 16,
   "metadata": {},
   "outputs": [],
   "source": [
    "def check_mats(df):\n",
    "    \"\"\"Remove rows in dataframe with no recorded housing materials.\"\"\"\n",
    "    cols = []\n",
    "    # find which mat columns are in df\n",
    "    for col in mat_names.values():\n",
    "        if col in df.columns:\n",
    "            cols.append(col)\n",
    "    \n",
    "    # use sum of mats to find rows with none recorded\n",
    "    df['Mat Sum'] = df[cols].fillna(0).sum(axis=1)\n",
    "\n",
    "    # remove rows without mats\n",
    "    df = df[df['Mat Sum'] != 0]\n",
    "    df = df.reset_index(drop=True)\n",
    "\n",
    "    return df"
   ]
  },
  {
   "cell_type": "markdown",
   "metadata": {},
   "source": [
    "##### df2"
   ]
  },
  {
   "cell_type": "markdown",
   "metadata": {},
   "source": [
    "###### Get missing data for remaining plans in df2"
   ]
  },
  {
   "cell_type": "code",
   "execution_count": 17,
   "metadata": {},
   "outputs": [],
   "source": [
    "try:\n",
    "    # read in previously scraped data, if available\n",
    "    df2 = pd.read_csv('scraped_data/df2.tsv', sep='\\t')\n",
    "\n",
    "except:\n",
    "    # scrape data for remaining plans in df2\n",
    "    for row, plan in enumerate(df2[\"Name\"]):\n",
    "        # get plan info dictionary using ESO-HUB plan page\n",
    "        col_data = get_cols(plan)\n",
    "\n",
    "        # fill cols, with dict key as col name, dict value as col value\n",
    "        for key, value in col_data.items():\n",
    "            df2.at[row, key] = value\n",
    "\n",
    "    # save scraped data to folder\n",
    "    df2.to_csv('scraped_data/df2.tsv', sep='\\t', index=False)"
   ]
  },
  {
   "cell_type": "markdown",
   "metadata": {},
   "source": [
    "###### Remove any plans left with 0 materials after adding ESO-Hub data"
   ]
  },
  {
   "cell_type": "code",
   "execution_count": 18,
   "metadata": {},
   "outputs": [],
   "source": [
    "# remove remaining plans without mats\n",
    "df2 = check_mats(df2)"
   ]
  },
  {
   "cell_type": "markdown",
   "metadata": {},
   "source": [
    "##### Firesong DLC"
   ]
  },
  {
   "cell_type": "code",
   "execution_count": 19,
   "metadata": {},
   "outputs": [],
   "source": [
    "def get_plans(url):\n",
    "    \"\"\"Return a list of furnishings from the url.\"\"\"\n",
    "    page = requests.get(url)\n",
    "\n",
    "    soup = BeautifulSoup(page.content, \"html.parser\")\n",
    "    data = soup.find_all(\"table\")\n",
    "\n",
    "    # create df from table\n",
    "    df = pd.read_html(str(data))[0]\n",
    "\n",
    "    # only keep furnishing name column\n",
    "    df = df[[\"Name\"]]\n",
    "\n",
    "    # clean name values\n",
    "    df[\"Name\"] = df[\"Name\"].str.replace(\" \\(page\\)\", \"\", regex=True)\n",
    "\n",
    "    return df"
   ]
  },
  {
   "cell_type": "markdown",
   "metadata": {},
   "source": [
    "###### Get Druidic style furnishings from UESP"
   ]
  },
  {
   "cell_type": "code",
   "execution_count": 20,
   "metadata": {},
   "outputs": [
    {
     "data": {
      "text/html": [
       "<div>\n",
       "<style scoped>\n",
       "    .dataframe tbody tr th:only-of-type {\n",
       "        vertical-align: middle;\n",
       "    }\n",
       "\n",
       "    .dataframe tbody tr th {\n",
       "        vertical-align: top;\n",
       "    }\n",
       "\n",
       "    .dataframe thead th {\n",
       "        text-align: right;\n",
       "    }\n",
       "</style>\n",
       "<table border=\"1\" class=\"dataframe\">\n",
       "  <thead>\n",
       "    <tr style=\"text-align: right;\">\n",
       "      <th></th>\n",
       "      <th>Name</th>\n",
       "    </tr>\n",
       "  </thead>\n",
       "  <tbody>\n",
       "    <tr>\n",
       "      <th>51</th>\n",
       "      <td>Flowers, Galen Sea Daffodil</td>\n",
       "    </tr>\n",
       "    <tr>\n",
       "      <th>52</th>\n",
       "      <td>The Druid King's Ivy Throne</td>\n",
       "    </tr>\n",
       "    <tr>\n",
       "      <th>53</th>\n",
       "      <td>Vulk'esh Egg</td>\n",
       "    </tr>\n",
       "  </tbody>\n",
       "</table>\n",
       "</div>"
      ],
      "text/plain": [
       "                           Name\n",
       "51  Flowers, Galen Sea Daffodil\n",
       "52  The Druid King's Ivy Throne\n",
       "53                 Vulk'esh Egg"
      ]
     },
     "execution_count": 20,
     "metadata": {},
     "output_type": "execute_result"
    }
   ],
   "source": [
    "try:\n",
    "    # read in previously scraped data, if available\n",
    "    druid = pd.read_csv('scraped_data/druid.tsv', sep='\\t')\n",
    "\n",
    "except:\n",
    "    # get all druidic plans from UESP.net\n",
    "    # ESO-Hub's update furnishings pages seem to be datamined, and included content not actually available in-game\n",
    "    druid = get_plans(\"https://en.uesp.net/wiki/Online:Druid_Furnishings\")\n",
    "\n",
    "    # save scraped data to folder\n",
    "    druid.to_csv('scraped_data/druid.tsv', sep='\\t', index=False)\n",
    "\n",
    "druid.tail(3)"
   ]
  },
  {
   "cell_type": "markdown",
   "metadata": {},
   "source": [
    "###### Get High Isle style furnishings from UESP"
   ]
  },
  {
   "cell_type": "code",
   "execution_count": 21,
   "metadata": {},
   "outputs": [
    {
     "data": {
      "text/html": [
       "<div>\n",
       "<style scoped>\n",
       "    .dataframe tbody tr th:only-of-type {\n",
       "        vertical-align: middle;\n",
       "    }\n",
       "\n",
       "    .dataframe tbody tr th {\n",
       "        vertical-align: top;\n",
       "    }\n",
       "\n",
       "    .dataframe thead th {\n",
       "        text-align: right;\n",
       "    }\n",
       "</style>\n",
       "<table border=\"1\" class=\"dataframe\">\n",
       "  <thead>\n",
       "    <tr style=\"text-align: right;\">\n",
       "      <th></th>\n",
       "      <th>Name</th>\n",
       "    </tr>\n",
       "  </thead>\n",
       "  <tbody>\n",
       "    <tr>\n",
       "      <th>113</th>\n",
       "      <td>Tree, Conical Cypress</td>\n",
       "    </tr>\n",
       "    <tr>\n",
       "      <th>114</th>\n",
       "      <td>Tree, Forked Cypress</td>\n",
       "    </tr>\n",
       "    <tr>\n",
       "      <th>115</th>\n",
       "      <td>Tree, Tall Conical Cypress</td>\n",
       "    </tr>\n",
       "  </tbody>\n",
       "</table>\n",
       "</div>"
      ],
      "text/plain": [
       "                           Name\n",
       "113       Tree, Conical Cypress\n",
       "114        Tree, Forked Cypress\n",
       "115  Tree, Tall Conical Cypress"
      ]
     },
     "execution_count": 21,
     "metadata": {},
     "output_type": "execute_result"
    }
   ],
   "source": [
    "try:\n",
    "    # read in previously scraped data, if available\n",
    "    high_isle = pd.read_csv('scraped_data/high_isle.tsv', sep='\\t')\n",
    "\n",
    "except:\n",
    "    # get all high isle style plans from UESP.net\n",
    "    high_isle = get_plans(\"https://en.uesp.net/wiki/Online:High_Isle_Furnishings\")\n",
    "\n",
    "    # save scraped data to folder\n",
    "    high_isle.to_csv('scraped_data/high_isle.tsv', sep='\\t', index=False)\n",
    "\n",
    "high_isle.tail(3)"
   ]
  },
  {
   "cell_type": "markdown",
   "metadata": {},
   "source": [
    "###### Remove any High Isle plans already in df2"
   ]
  },
  {
   "cell_type": "code",
   "execution_count": 22,
   "metadata": {},
   "outputs": [
    {
     "data": {
      "text/plain": [
       "(42, 1)"
      ]
     },
     "execution_count": 22,
     "metadata": {},
     "output_type": "execute_result"
    }
   ],
   "source": [
    "# only a few of these are new, so duplicates will need to be removed\n",
    "# filter out anything already included in df2\n",
    "high_isle = high_isle[~high_isle[\"Name\"].isin(df2[\"Name\"])]\n",
    "high_isle = high_isle.reset_index(drop=True)\n",
    "\n",
    "high_isle.shape"
   ]
  },
  {
   "cell_type": "markdown",
   "metadata": {},
   "source": [
    "###### Combine high_isle and druid dataframes"
   ]
  },
  {
   "cell_type": "code",
   "execution_count": 23,
   "metadata": {},
   "outputs": [],
   "source": [
    "# combine firesong patch furnishings\n",
    "firesong = pd.concat([druid, high_isle])\n",
    "firesong = firesong.reset_index(drop=True)"
   ]
  },
  {
   "cell_type": "markdown",
   "metadata": {},
   "source": [
    "###### Fill in firesong plan data with ESO-Hub"
   ]
  },
  {
   "cell_type": "code",
   "execution_count": 24,
   "metadata": {},
   "outputs": [],
   "source": [
    "try:\n",
    "    # read in previously scraped data, if available\n",
    "    firesong = pd.read_csv('scraped_data/firesong.tsv', sep='\\t')\n",
    "\n",
    "except:\n",
    "    # scrape missing data for each plan\n",
    "    for row, plan in enumerate(firesong[\"Name\"]):\n",
    "\n",
    "        # get plan info dictionary using ESO-HUB plan page\n",
    "        col_data = get_cols(plan)\n",
    "\n",
    "        # fill cols with dict key as col name, dict value as col value\n",
    "        for key, value in col_data.items():\n",
    "            firesong.at[row, key] = value\n",
    "    \n",
    "    # save scraped data to folder\n",
    "    firesong.to_csv('scraped_data/firesong.tsv', sep='\\t', index=False)"
   ]
  },
  {
   "cell_type": "markdown",
   "metadata": {},
   "source": [
    "###### Remove any firesong plans that still have 0 materials"
   ]
  },
  {
   "cell_type": "code",
   "execution_count": 25,
   "metadata": {},
   "outputs": [
    {
     "data": {
      "text/html": [
       "<div>\n",
       "<style scoped>\n",
       "    .dataframe tbody tr th:only-of-type {\n",
       "        vertical-align: middle;\n",
       "    }\n",
       "\n",
       "    .dataframe tbody tr th {\n",
       "        vertical-align: top;\n",
       "    }\n",
       "\n",
       "    .dataframe thead th {\n",
       "        text-align: right;\n",
       "    }\n",
       "</style>\n",
       "<table border=\"1\" class=\"dataframe\">\n",
       "  <thead>\n",
       "    <tr style=\"text-align: right;\">\n",
       "      <th></th>\n",
       "      <th>Name</th>\n",
       "      <th>Patch</th>\n",
       "      <th>Category</th>\n",
       "      <th>Quality</th>\n",
       "      <th>Pelt</th>\n",
       "      <th>Wax</th>\n",
       "      <th>Rune</th>\n",
       "      <th>Resin</th>\n",
       "      <th>Bast</th>\n",
       "      <th>Wood</th>\n",
       "      <th>Ochre</th>\n",
       "      <th>Regulus</th>\n",
       "      <th>Mat Sum</th>\n",
       "    </tr>\n",
       "  </thead>\n",
       "  <tbody>\n",
       "    <tr>\n",
       "      <th>47</th>\n",
       "      <td>High Isle Nightstand, Dainty Wood</td>\n",
       "      <td>Firesong</td>\n",
       "      <td>Suite</td>\n",
       "      <td>Fine</td>\n",
       "      <td>NaN</td>\n",
       "      <td>NaN</td>\n",
       "      <td>NaN</td>\n",
       "      <td>NaN</td>\n",
       "      <td>NaN</td>\n",
       "      <td>5.0</td>\n",
       "      <td>NaN</td>\n",
       "      <td>NaN</td>\n",
       "      <td>5.0</td>\n",
       "    </tr>\n",
       "    <tr>\n",
       "      <th>48</th>\n",
       "      <td>High Isle Nightstand, Wood</td>\n",
       "      <td>Firesong</td>\n",
       "      <td>Suite</td>\n",
       "      <td>Superior</td>\n",
       "      <td>NaN</td>\n",
       "      <td>5.0</td>\n",
       "      <td>NaN</td>\n",
       "      <td>NaN</td>\n",
       "      <td>NaN</td>\n",
       "      <td>9.0</td>\n",
       "      <td>NaN</td>\n",
       "      <td>NaN</td>\n",
       "      <td>14.0</td>\n",
       "    </tr>\n",
       "    <tr>\n",
       "      <th>49</th>\n",
       "      <td>High Isle Teapot, Copper</td>\n",
       "      <td>Firesong</td>\n",
       "      <td>Hearth</td>\n",
       "      <td>Epic</td>\n",
       "      <td>NaN</td>\n",
       "      <td>NaN</td>\n",
       "      <td>NaN</td>\n",
       "      <td>9.0</td>\n",
       "      <td>NaN</td>\n",
       "      <td>7.0</td>\n",
       "      <td>NaN</td>\n",
       "      <td>13.0</td>\n",
       "      <td>29.0</td>\n",
       "    </tr>\n",
       "  </tbody>\n",
       "</table>\n",
       "</div>"
      ],
      "text/plain": [
       "                                 Name     Patch Category    Quality  Pelt  \\\n",
       "47  High Isle Nightstand, Dainty Wood  Firesong    Suite       Fine   NaN   \n",
       "48         High Isle Nightstand, Wood  Firesong    Suite   Superior   NaN   \n",
       "49           High Isle Teapot, Copper  Firesong   Hearth       Epic   NaN   \n",
       "\n",
       "    Wax  Rune  Resin  Bast  Wood  Ochre  Regulus  Mat Sum  \n",
       "47  NaN   NaN    NaN   NaN   5.0    NaN      NaN      5.0  \n",
       "48  5.0   NaN    NaN   NaN   9.0    NaN      NaN     14.0  \n",
       "49  NaN   NaN    9.0   NaN   7.0    NaN     13.0     29.0  "
      ]
     },
     "execution_count": 25,
     "metadata": {},
     "output_type": "execute_result"
    }
   ],
   "source": [
    "# remove rows without mats\n",
    "firesong = check_mats(firesong)\n",
    "\n",
    "firesong.tail(3)"
   ]
  },
  {
   "cell_type": "markdown",
   "metadata": {},
   "source": [
    "### Combine plan dataframes"
   ]
  },
  {
   "cell_type": "code",
   "execution_count": 26,
   "metadata": {},
   "outputs": [
    {
     "data": {
      "text/plain": [
       "(2561, 13)"
      ]
     },
     "execution_count": 26,
     "metadata": {},
     "output_type": "execute_result"
    }
   ],
   "source": [
    "# combine plans from df1, df2, and firesong\n",
    "plans = pd.concat([df1, df2, firesong])\n",
    "plans = plans.reset_index(drop=True)\n",
    "\n",
    "plans.shape"
   ]
  },
  {
   "cell_type": "markdown",
   "metadata": {},
   "source": [
    "###### Remove duplicates"
   ]
  },
  {
   "cell_type": "code",
   "execution_count": 27,
   "metadata": {},
   "outputs": [
    {
     "data": {
      "text/plain": [
       "(2557, 13)"
      ]
     },
     "execution_count": 27,
     "metadata": {},
     "output_type": "execute_result"
    }
   ],
   "source": [
    "# remove any duplicates\n",
    "duplicates = plans.duplicated(['Name'], keep='first')\n",
    "\n",
    "plans = plans[~duplicates]\n",
    "plans = plans.reset_index(drop=True)\n",
    "\n",
    "plans.shape"
   ]
  },
  {
   "cell_type": "markdown",
   "metadata": {},
   "source": [
    "###### Material quantities"
   ]
  },
  {
   "cell_type": "code",
   "execution_count": 28,
   "metadata": {},
   "outputs": [],
   "source": [
    "# find sum of mats for each plan to check for missing mat data\n",
    "plans[\"Mat Sum\"] = plans[mat_names.values()].fillna(0).sum(axis=1)\n",
    "\n",
    "try:\n",
    "    # read in previously scraped data, if available\n",
    "    plans = pd.read_csv('scraped_data/plans.tsv', sep='\\t')\n",
    "\n",
    "except:\n",
    "    # scrape data for any plans still without mats\n",
    "    for row, matsum in enumerate(plans[\"Mat Sum\"]):\n",
    "        if matsum == 0:\n",
    "            plan = plans.at[row, \"Name\"]\n",
    "\n",
    "            # get plan info dictionary using ESO-HUB plan page\n",
    "            col_data = get_cols(plan)\n",
    "\n",
    "            # fill cols, with dict key as col name, dict value as col value\n",
    "            for key, value in col_data.items():\n",
    "                plans.at[row, key] = value\n",
    "\n",
    "    # save scraped data to folder\n",
    "    plans.to_csv('scraped_data/plans.tsv', sep='\\t', index=False)"
   ]
  },
  {
   "cell_type": "markdown",
   "metadata": {},
   "source": [
    "###### Quality column values"
   ]
  },
  {
   "cell_type": "code",
   "execution_count": 29,
   "metadata": {},
   "outputs": [
    {
     "data": {
      "text/plain": [
       "array(['legendary', 'fine', 'superior', 'epic', 'standard'], dtype=object)"
      ]
     },
     "execution_count": 29,
     "metadata": {},
     "output_type": "execute_result"
    }
   ],
   "source": [
    "plans['Quality'] = plans['Quality'].str.replace(' ', '')\n",
    "plans['Quality'] = plans['Quality'].str.lower()\n",
    "plans['Quality'].unique()"
   ]
  },
  {
   "cell_type": "markdown",
   "metadata": {},
   "source": [
    "###### Category column values"
   ]
  },
  {
   "cell_type": "code",
   "execution_count": 30,
   "metadata": {},
   "outputs": [
    {
     "data": {
      "text/plain": [
       "array(['Workshop', 'Hearth', 'Gallery', 'Structures', 'Dining', 'Suite',\n",
       "       'Library', 'Courtyard', 'Lighting', 'Parlor', 'Undercroft',\n",
       "       'Conservatory', 'Miscellaneous', nan, 'library', 'Services'],\n",
       "      dtype=object)"
      ]
     },
     "execution_count": 30,
     "metadata": {},
     "output_type": "execute_result"
    }
   ],
   "source": [
    "# check plans df category values\n",
    "plans['Category'].unique()"
   ]
  },
  {
   "cell_type": "code",
   "execution_count": 31,
   "metadata": {},
   "outputs": [
    {
     "data": {
      "text/html": [
       "<div>\n",
       "<style scoped>\n",
       "    .dataframe tbody tr th:only-of-type {\n",
       "        vertical-align: middle;\n",
       "    }\n",
       "\n",
       "    .dataframe tbody tr th {\n",
       "        vertical-align: top;\n",
       "    }\n",
       "\n",
       "    .dataframe thead th {\n",
       "        text-align: right;\n",
       "    }\n",
       "</style>\n",
       "<table border=\"1\" class=\"dataframe\">\n",
       "  <thead>\n",
       "    <tr style=\"text-align: right;\">\n",
       "      <th></th>\n",
       "      <th>Name</th>\n",
       "      <th>Quality</th>\n",
       "      <th>Category</th>\n",
       "      <th>Resin</th>\n",
       "      <th>Wax</th>\n",
       "      <th>Ochre</th>\n",
       "      <th>Rune</th>\n",
       "      <th>Wood</th>\n",
       "      <th>Regulus</th>\n",
       "      <th>Bast</th>\n",
       "      <th>Pelt</th>\n",
       "      <th>Patch</th>\n",
       "      <th>Mat Sum</th>\n",
       "    </tr>\n",
       "  </thead>\n",
       "  <tbody>\n",
       "    <tr>\n",
       "      <th>598</th>\n",
       "      <td>Dark Elf Tent, Canopy</td>\n",
       "      <td>legendary</td>\n",
       "      <td>NaN</td>\n",
       "      <td>12.0</td>\n",
       "      <td>NaN</td>\n",
       "      <td>8.0</td>\n",
       "      <td>NaN</td>\n",
       "      <td>NaN</td>\n",
       "      <td>15.0</td>\n",
       "      <td>15.0</td>\n",
       "      <td>NaN</td>\n",
       "      <td>Elsweyr</td>\n",
       "      <td>50.0</td>\n",
       "    </tr>\n",
       "    <tr>\n",
       "      <th>1609</th>\n",
       "      <td>Obelisk, Lord Hircine Ritual</td>\n",
       "      <td>superior</td>\n",
       "      <td>NaN</td>\n",
       "      <td>7.0</td>\n",
       "      <td>NaN</td>\n",
       "      <td>NaN</td>\n",
       "      <td>10.0</td>\n",
       "      <td>NaN</td>\n",
       "      <td>NaN</td>\n",
       "      <td>NaN</td>\n",
       "      <td>NaN</td>\n",
       "      <td>Wolfhunter</td>\n",
       "      <td>17.0</td>\n",
       "    </tr>\n",
       "  </tbody>\n",
       "</table>\n",
       "</div>"
      ],
      "text/plain": [
       "                              Name    Quality Category  Resin  Wax  Ochre  \\\n",
       "598          Dark Elf Tent, Canopy  legendary      NaN   12.0  NaN    8.0   \n",
       "1609  Obelisk, Lord Hircine Ritual   superior      NaN    7.0  NaN    NaN   \n",
       "\n",
       "      Rune  Wood  Regulus  Bast  Pelt       Patch  Mat Sum  \n",
       "598    NaN   NaN     15.0  15.0   NaN     Elsweyr     50.0  \n",
       "1609  10.0   NaN      NaN   NaN   NaN  Wolfhunter     17.0  "
      ]
     },
     "execution_count": 31,
     "metadata": {},
     "output_type": "execute_result"
    }
   ],
   "source": [
    "# fix lowercase 'library' category\n",
    "plans[\"Category\"] = plans[\"Category\"].str.replace(\"library\", \"Library\")\n",
    "\n",
    "# check for NaN values in the Category column\n",
    "plans[plans[\"Category\"].isna()]"
   ]
  },
  {
   "cell_type": "code",
   "execution_count": 32,
   "metadata": {},
   "outputs": [],
   "source": [
    "try:\n",
    "    # read in previously scraped data, if available\n",
    "    plans = pd.read_csv('scraped_data/plans_cat.tsv', sep='\\t')\n",
    "\n",
    "except:\n",
    "    for row, plan in enumerate(plans['Name']):\n",
    "\n",
    "        # scrape missing data for plans without a Category value\n",
    "        if pd.isna(plans['Category'][row]) == True:\n",
    "            \n",
    "            # get plan info dictionary using ESO-HUB plan page\n",
    "            col_data = get_cols(plan)\n",
    "\n",
    "            # fill cols, with dict key as col name, dict value as col value\n",
    "            for key, value in col_data.items():\n",
    "                plans.at[row, key] = value\n",
    "\n",
    "    # save scraped data to folder\n",
    "    plans.to_csv('scraped_data/plans_cat.tsv', sep='\\t', index=False)"
   ]
  },
  {
   "cell_type": "code",
   "execution_count": 33,
   "metadata": {},
   "outputs": [
    {
     "data": {
      "text/html": [
       "<div>\n",
       "<style scoped>\n",
       "    .dataframe tbody tr th:only-of-type {\n",
       "        vertical-align: middle;\n",
       "    }\n",
       "\n",
       "    .dataframe tbody tr th {\n",
       "        vertical-align: top;\n",
       "    }\n",
       "\n",
       "    .dataframe thead th {\n",
       "        text-align: right;\n",
       "    }\n",
       "</style>\n",
       "<table border=\"1\" class=\"dataframe\">\n",
       "  <thead>\n",
       "    <tr style=\"text-align: right;\">\n",
       "      <th></th>\n",
       "      <th>Name</th>\n",
       "      <th>Quality</th>\n",
       "      <th>Category</th>\n",
       "      <th>Resin</th>\n",
       "      <th>Wax</th>\n",
       "      <th>Ochre</th>\n",
       "      <th>Rune</th>\n",
       "      <th>Wood</th>\n",
       "      <th>Regulus</th>\n",
       "      <th>Bast</th>\n",
       "      <th>Pelt</th>\n",
       "      <th>Patch</th>\n",
       "      <th>Mat Sum</th>\n",
       "    </tr>\n",
       "  </thead>\n",
       "  <tbody>\n",
       "  </tbody>\n",
       "</table>\n",
       "</div>"
      ],
      "text/plain": [
       "Empty DataFrame\n",
       "Columns: [Name, Quality, Category, Resin, Wax, Ochre, Rune, Wood, Regulus, Bast, Pelt, Patch, Mat Sum]\n",
       "Index: []"
      ]
     },
     "execution_count": 33,
     "metadata": {},
     "output_type": "execute_result"
    }
   ],
   "source": [
    "# check again for missing categories\n",
    "plans[plans[\"Category\"].isna()]"
   ]
  },
  {
   "cell_type": "markdown",
   "metadata": {},
   "source": [
    "###### Patch column values"
   ]
  },
  {
   "cell_type": "code",
   "execution_count": 34,
   "metadata": {},
   "outputs": [
    {
     "data": {
      "text/html": [
       "<div>\n",
       "<style scoped>\n",
       "    .dataframe tbody tr th:only-of-type {\n",
       "        vertical-align: middle;\n",
       "    }\n",
       "\n",
       "    .dataframe tbody tr th {\n",
       "        vertical-align: top;\n",
       "    }\n",
       "\n",
       "    .dataframe thead th {\n",
       "        text-align: right;\n",
       "    }\n",
       "</style>\n",
       "<table border=\"1\" class=\"dataframe\">\n",
       "  <thead>\n",
       "    <tr style=\"text-align: right;\">\n",
       "      <th></th>\n",
       "      <th>Name</th>\n",
       "      <th>Quality</th>\n",
       "      <th>Category</th>\n",
       "      <th>Resin</th>\n",
       "      <th>Wax</th>\n",
       "      <th>Ochre</th>\n",
       "      <th>Rune</th>\n",
       "      <th>Wood</th>\n",
       "      <th>Regulus</th>\n",
       "      <th>Bast</th>\n",
       "      <th>Pelt</th>\n",
       "      <th>Patch</th>\n",
       "      <th>Mat Sum</th>\n",
       "    </tr>\n",
       "  </thead>\n",
       "  <tbody>\n",
       "    <tr>\n",
       "      <th>607</th>\n",
       "      <td>Deadlands Archway</td>\n",
       "      <td>epic</td>\n",
       "      <td>Structures</td>\n",
       "      <td>NaN</td>\n",
       "      <td>NaN</td>\n",
       "      <td>7.0</td>\n",
       "      <td>13.0</td>\n",
       "      <td>NaN</td>\n",
       "      <td>NaN</td>\n",
       "      <td>NaN</td>\n",
       "      <td>7.0</td>\n",
       "      <td>NaN</td>\n",
       "      <td>27.0</td>\n",
       "    </tr>\n",
       "    <tr>\n",
       "      <th>662</th>\n",
       "      <td>Deadlands, Brazier, Bladed</td>\n",
       "      <td>superior</td>\n",
       "      <td>Lighting</td>\n",
       "      <td>NaN</td>\n",
       "      <td>NaN</td>\n",
       "      <td>NaN</td>\n",
       "      <td>6.0</td>\n",
       "      <td>NaN</td>\n",
       "      <td>9.0</td>\n",
       "      <td>NaN</td>\n",
       "      <td>NaN</td>\n",
       "      <td>NaN</td>\n",
       "      <td>15.0</td>\n",
       "    </tr>\n",
       "    <tr>\n",
       "      <th>2113</th>\n",
       "      <td>Solitude Game, Blood-on-the-Snow</td>\n",
       "      <td>legendary</td>\n",
       "      <td>Parlor</td>\n",
       "      <td>13.0</td>\n",
       "      <td>NaN</td>\n",
       "      <td>9.0</td>\n",
       "      <td>NaN</td>\n",
       "      <td>15.0</td>\n",
       "      <td>NaN</td>\n",
       "      <td>NaN</td>\n",
       "      <td>NaN</td>\n",
       "      <td>NaN</td>\n",
       "      <td>37.0</td>\n",
       "    </tr>\n",
       "  </tbody>\n",
       "</table>\n",
       "</div>"
      ],
      "text/plain": [
       "                                  Name    Quality    Category  Resin  Wax  \\\n",
       "607                 Deadlands Archway        epic  Structures    NaN  NaN   \n",
       "662         Deadlands, Brazier, Bladed   superior    Lighting    NaN  NaN   \n",
       "2113  Solitude Game, Blood-on-the-Snow  legendary      Parlor   13.0  NaN   \n",
       "\n",
       "      Ochre  Rune  Wood  Regulus  Bast  Pelt Patch  Mat Sum  \n",
       "607     7.0  13.0   NaN      NaN   NaN   7.0   NaN     27.0  \n",
       "662     NaN   6.0   NaN      9.0   NaN   NaN   NaN     15.0  \n",
       "2113    9.0   NaN  15.0      NaN   NaN   NaN   NaN     37.0  "
      ]
     },
     "execution_count": 34,
     "metadata": {},
     "output_type": "execute_result"
    }
   ],
   "source": [
    "# check for any plans with missing patch values\n",
    "plans[plans[\"Patch\"].isna()]"
   ]
  },
  {
   "cell_type": "code",
   "execution_count": 35,
   "metadata": {},
   "outputs": [],
   "source": [
    "try:\n",
    "    # read in previously scraped data, if available\n",
    "    plans = pd.read_csv('scraped_data/plans_patch.tsv', sep='\\t')\n",
    "\n",
    "except:\n",
    "    for row, plan in enumerate(plans['Name']):\n",
    "\n",
    "        # scrape missing data for plans without a Category value\n",
    "        if pd.isna(plans['Patch'][row]) == True:\n",
    "            \n",
    "            # get plan info dictionary using ESO-HUB plan page\n",
    "            col_data = get_cols(plan)\n",
    "\n",
    "            # fill cols, with dict key as col name, dict value as col value\n",
    "            for key, value in col_data.items():\n",
    "                plans.at[row, key] = value\n",
    "\n",
    "    # save scraped data to folder\n",
    "    plans.to_csv('scraped_data/plans_patch.tsv', sep='\\t', index=False)"
   ]
  },
  {
   "cell_type": "code",
   "execution_count": 36,
   "metadata": {},
   "outputs": [
    {
     "data": {
      "text/html": [
       "<div>\n",
       "<style scoped>\n",
       "    .dataframe tbody tr th:only-of-type {\n",
       "        vertical-align: middle;\n",
       "    }\n",
       "\n",
       "    .dataframe tbody tr th {\n",
       "        vertical-align: top;\n",
       "    }\n",
       "\n",
       "    .dataframe thead th {\n",
       "        text-align: right;\n",
       "    }\n",
       "</style>\n",
       "<table border=\"1\" class=\"dataframe\">\n",
       "  <thead>\n",
       "    <tr style=\"text-align: right;\">\n",
       "      <th></th>\n",
       "      <th>Name</th>\n",
       "      <th>Quality</th>\n",
       "      <th>Category</th>\n",
       "      <th>Resin</th>\n",
       "      <th>Wax</th>\n",
       "      <th>Ochre</th>\n",
       "      <th>Rune</th>\n",
       "      <th>Wood</th>\n",
       "      <th>Regulus</th>\n",
       "      <th>Bast</th>\n",
       "      <th>Pelt</th>\n",
       "      <th>Patch</th>\n",
       "      <th>Mat Sum</th>\n",
       "    </tr>\n",
       "  </thead>\n",
       "  <tbody>\n",
       "    <tr>\n",
       "      <th>2113</th>\n",
       "      <td>Solitude Game, Blood-on-the-Snow</td>\n",
       "      <td>Legendary</td>\n",
       "      <td>Parlor</td>\n",
       "      <td>13.0</td>\n",
       "      <td>NaN</td>\n",
       "      <td>9.0</td>\n",
       "      <td>NaN</td>\n",
       "      <td>15.0</td>\n",
       "      <td>NaN</td>\n",
       "      <td>NaN</td>\n",
       "      <td>NaN</td>\n",
       "      <td>NaN</td>\n",
       "      <td>37.0</td>\n",
       "    </tr>\n",
       "  </tbody>\n",
       "</table>\n",
       "</div>"
      ],
      "text/plain": [
       "                                  Name     Quality Category  Resin  Wax  \\\n",
       "2113  Solitude Game, Blood-on-the-Snow   Legendary   Parlor   13.0  NaN   \n",
       "\n",
       "      Ochre  Rune  Wood  Regulus  Bast  Pelt Patch  Mat Sum  \n",
       "2113    9.0   NaN  15.0      NaN   NaN   NaN   NaN     37.0  "
      ]
     },
     "execution_count": 36,
     "metadata": {},
     "output_type": "execute_result"
    }
   ],
   "source": [
    "plans[plans[\"Patch\"].isna()]"
   ]
  },
  {
   "cell_type": "code",
   "execution_count": 37,
   "metadata": {},
   "outputs": [
    {
     "data": {
      "text/html": [
       "<div>\n",
       "<style scoped>\n",
       "    .dataframe tbody tr th:only-of-type {\n",
       "        vertical-align: middle;\n",
       "    }\n",
       "\n",
       "    .dataframe tbody tr th {\n",
       "        vertical-align: top;\n",
       "    }\n",
       "\n",
       "    .dataframe thead th {\n",
       "        text-align: right;\n",
       "    }\n",
       "</style>\n",
       "<table border=\"1\" class=\"dataframe\">\n",
       "  <thead>\n",
       "    <tr style=\"text-align: right;\">\n",
       "      <th></th>\n",
       "      <th>Name</th>\n",
       "      <th>Quality</th>\n",
       "      <th>Category</th>\n",
       "      <th>Resin</th>\n",
       "      <th>Wax</th>\n",
       "      <th>Ochre</th>\n",
       "      <th>Rune</th>\n",
       "      <th>Wood</th>\n",
       "      <th>Regulus</th>\n",
       "      <th>Bast</th>\n",
       "      <th>Pelt</th>\n",
       "      <th>Patch</th>\n",
       "      <th>Mat Sum</th>\n",
       "    </tr>\n",
       "  </thead>\n",
       "  <tbody>\n",
       "  </tbody>\n",
       "</table>\n",
       "</div>"
      ],
      "text/plain": [
       "Empty DataFrame\n",
       "Columns: [Name, Quality, Category, Resin, Wax, Ochre, Rune, Wood, Regulus, Bast, Pelt, Patch, Mat Sum]\n",
       "Index: []"
      ]
     },
     "execution_count": 37,
     "metadata": {},
     "output_type": "execute_result"
    }
   ],
   "source": [
    "# fill in solitude game blood on the snow (via eso.mmo-fashion.com)\n",
    "for row, plan in enumerate(plans['Name']):\n",
    "    if plan == 'Solitude Game, Blood-on-the-Snow':\n",
    "        plans.at[row, 'Patch'] = \"Stonethorn\"\n",
    "\n",
    "# check for any other plans without a listed patch\n",
    "plans[plans[\"Patch\"].isna()]"
   ]
  },
  {
   "cell_type": "code",
   "execution_count": 38,
   "metadata": {},
   "outputs": [
    {
     "name": "stdout",
     "output_type": "stream",
     "text": [
      "Morrowind\n",
      "Horns of the Reach\n",
      "Clockwork City\n",
      "Wrathstone\n",
      "Dragonhold\n",
      "The Deadlands\n"
     ]
    }
   ],
   "source": [
    "# check for patch values in patches df but not plans df\n",
    "for patch in patches[\"Patch\"].unique():\n",
    "    if patch not in plans[\"Patch\"].unique():\n",
    "        print(patch)"
   ]
  },
  {
   "cell_type": "code",
   "execution_count": 39,
   "metadata": {},
   "outputs": [
    {
     "name": "stdout",
     "output_type": "stream",
     "text": [
      "Homestead\n",
      "Morrowind / Clockwork\n",
      "Deadlands\n"
     ]
    }
   ],
   "source": [
    "# check for patch values in plans df but not patches df\n",
    "for patch in plans[\"Patch\"].unique():\n",
    "    if patch not in patches[\"Patch\"].unique():\n",
    "        print(patch)"
   ]
  },
  {
   "cell_type": "code",
   "execution_count": 40,
   "metadata": {},
   "outputs": [],
   "source": [
    "# correct inconsistent deadlands patch value\n",
    "plans[\"Patch\"] = plans[\"Patch\"].str.replace(\"^Deadlands\", \"The Deadlands\", regex=True)"
   ]
  },
  {
   "cell_type": "markdown",
   "metadata": {},
   "source": [
    "###### Replace 'Morrowind / Clockwork' values with specific patch"
   ]
  },
  {
   "cell_type": "code",
   "execution_count": 41,
   "metadata": {},
   "outputs": [],
   "source": [
    "# create lists from text files\n",
    "mw = open(\"data/morrowind.txt\", 'r')\n",
    "mw = mw.read().splitlines()\n",
    "\n",
    "cwc = open(\"data/clockwork_city.txt\", 'r')\n",
    "cwc = cwc.read().splitlines()\n",
    "\n",
    "hotr = open(\"data/horns_of_the_reach.txt\", 'r')\n",
    "hotr = hotr.read().splitlines()\n",
    "\n",
    "# fix 'Morrowind / Clockwork' patch values using lists\n",
    "for row, plan in enumerate(plans['Name']):\n",
    "    if plan in mw:\n",
    "        plans.at[row, 'Patch'] = 'Morrowind'\n",
    "    elif plan in cwc:\n",
    "        plans.at[row, 'Patch'] = 'Clockwork City'\n",
    "    elif plan in hotr:\n",
    "        plans.at[row, 'Patch'] = 'Horns of the Reach'"
   ]
  },
  {
   "cell_type": "code",
   "execution_count": 42,
   "metadata": {},
   "outputs": [
    {
     "name": "stdout",
     "output_type": "stream",
     "text": [
      "Homestead\n"
     ]
    }
   ],
   "source": [
    "# check for patch values in plans df but not patches df\n",
    "for patch in plans[\"Patch\"].unique():\n",
    "    if patch not in patches[\"Patch\"].unique():\n",
    "        print(patch)"
   ]
  },
  {
   "cell_type": "markdown",
   "metadata": {},
   "source": [
    "## Analyze plans by update added"
   ]
  },
  {
   "cell_type": "markdown",
   "metadata": {},
   "source": [
    "##### Find total plans added per update"
   ]
  },
  {
   "cell_type": "code",
   "execution_count": 43,
   "metadata": {},
   "outputs": [
    {
     "data": {
      "text/html": [
       "<div>\n",
       "<style scoped>\n",
       "    .dataframe tbody tr th:only-of-type {\n",
       "        vertical-align: middle;\n",
       "    }\n",
       "\n",
       "    .dataframe tbody tr th {\n",
       "        vertical-align: top;\n",
       "    }\n",
       "\n",
       "    .dataframe thead th {\n",
       "        text-align: right;\n",
       "    }\n",
       "</style>\n",
       "<table border=\"1\" class=\"dataframe\">\n",
       "  <thead>\n",
       "    <tr style=\"text-align: right;\">\n",
       "      <th></th>\n",
       "      <th>Update</th>\n",
       "      <th>Patch</th>\n",
       "      <th>Release</th>\n",
       "      <th>Plans</th>\n",
       "    </tr>\n",
       "  </thead>\n",
       "  <tbody>\n",
       "    <tr>\n",
       "      <th>0</th>\n",
       "      <td>14</td>\n",
       "      <td>Morrowind</td>\n",
       "      <td>2017-06-05</td>\n",
       "      <td>273.0</td>\n",
       "    </tr>\n",
       "    <tr>\n",
       "      <th>1</th>\n",
       "      <td>15</td>\n",
       "      <td>Horns of the Reach</td>\n",
       "      <td>2017-08-14</td>\n",
       "      <td>16.0</td>\n",
       "    </tr>\n",
       "    <tr>\n",
       "      <th>2</th>\n",
       "      <td>16</td>\n",
       "      <td>Clockwork City</td>\n",
       "      <td>2017-10-23</td>\n",
       "      <td>68.0</td>\n",
       "    </tr>\n",
       "  </tbody>\n",
       "</table>\n",
       "</div>"
      ],
      "text/plain": [
       "   Update               Patch    Release  Plans\n",
       "0      14           Morrowind 2017-06-05  273.0\n",
       "1      15  Horns of the Reach 2017-08-14   16.0\n",
       "2      16      Clockwork City 2017-10-23   68.0"
      ]
     },
     "execution_count": 43,
     "metadata": {},
     "output_type": "execute_result"
    }
   ],
   "source": [
    "# find total plans added per patch\n",
    "total_plans = plans.groupby(\"Patch\")[\"Name\"].count()\n",
    "\n",
    "# merge with patches df\n",
    "patches = patches.merge(total_plans, how=\"left\", on=[\"Patch\"])\n",
    "\n",
    "# fix plan count column name\n",
    "patches = patches.rename(columns={\"Name\": \"Plans\"})\n",
    "\n",
    "patches.head(3)"
   ]
  },
  {
   "cell_type": "markdown",
   "metadata": {},
   "source": [
    "##### Find total mats used by plans per update"
   ]
  },
  {
   "cell_type": "code",
   "execution_count": 44,
   "metadata": {},
   "outputs": [
    {
     "data": {
      "text/html": [
       "<div>\n",
       "<style scoped>\n",
       "    .dataframe tbody tr th:only-of-type {\n",
       "        vertical-align: middle;\n",
       "    }\n",
       "\n",
       "    .dataframe tbody tr th {\n",
       "        vertical-align: top;\n",
       "    }\n",
       "\n",
       "    .dataframe thead th {\n",
       "        text-align: right;\n",
       "    }\n",
       "</style>\n",
       "<table border=\"1\" class=\"dataframe\">\n",
       "  <thead>\n",
       "    <tr style=\"text-align: right;\">\n",
       "      <th></th>\n",
       "      <th>Update</th>\n",
       "      <th>Patch</th>\n",
       "      <th>Release</th>\n",
       "      <th>Plans</th>\n",
       "      <th>Resin</th>\n",
       "      <th>Wax</th>\n",
       "      <th>Ochre</th>\n",
       "      <th>Rune</th>\n",
       "      <th>Wood</th>\n",
       "      <th>Regulus</th>\n",
       "      <th>Bast</th>\n",
       "      <th>Pelt</th>\n",
       "    </tr>\n",
       "  </thead>\n",
       "  <tbody>\n",
       "    <tr>\n",
       "      <th>20</th>\n",
       "      <td>34</td>\n",
       "      <td>High Isle</td>\n",
       "      <td>2022-06-06</td>\n",
       "      <td>47.0</td>\n",
       "      <td>71.0</td>\n",
       "      <td>157.0</td>\n",
       "      <td>21.0</td>\n",
       "      <td>28.0</td>\n",
       "      <td>296.0</td>\n",
       "      <td>97.0</td>\n",
       "      <td>44.0</td>\n",
       "      <td>22.0</td>\n",
       "    </tr>\n",
       "    <tr>\n",
       "      <th>21</th>\n",
       "      <td>35</td>\n",
       "      <td>Lost Depths</td>\n",
       "      <td>2022-08-22</td>\n",
       "      <td>28.0</td>\n",
       "      <td>172.0</td>\n",
       "      <td>51.0</td>\n",
       "      <td>27.0</td>\n",
       "      <td>118.0</td>\n",
       "      <td>159.0</td>\n",
       "      <td>28.0</td>\n",
       "      <td>45.0</td>\n",
       "      <td>15.0</td>\n",
       "    </tr>\n",
       "    <tr>\n",
       "      <th>22</th>\n",
       "      <td>36</td>\n",
       "      <td>Firesong</td>\n",
       "      <td>2022-11-01</td>\n",
       "      <td>50.0</td>\n",
       "      <td>215.0</td>\n",
       "      <td>102.0</td>\n",
       "      <td>21.0</td>\n",
       "      <td>327.0</td>\n",
       "      <td>88.0</td>\n",
       "      <td>67.0</td>\n",
       "      <td>42.0</td>\n",
       "      <td>10.0</td>\n",
       "    </tr>\n",
       "  </tbody>\n",
       "</table>\n",
       "</div>"
      ],
      "text/plain": [
       "    Update        Patch    Release  Plans  Resin    Wax  Ochre   Rune   Wood  \\\n",
       "20      34    High Isle 2022-06-06   47.0   71.0  157.0   21.0   28.0  296.0   \n",
       "21      35  Lost Depths 2022-08-22   28.0  172.0   51.0   27.0  118.0  159.0   \n",
       "22      36     Firesong 2022-11-01   50.0  215.0  102.0   21.0  327.0   88.0   \n",
       "\n",
       "    Regulus  Bast  Pelt  \n",
       "20     97.0  44.0  22.0  \n",
       "21     28.0  45.0  15.0  \n",
       "22     67.0  42.0  10.0  "
      ]
     },
     "execution_count": 44,
     "metadata": {},
     "output_type": "execute_result"
    }
   ],
   "source": [
    "# find sum of mats used by plans added in each update\n",
    "mats_sum = plans.groupby(\"Patch\").sum(numeric_only=True)\n",
    "\n",
    "# merge with patches df\n",
    "patches = patches.merge(mats_sum, how=\"left\", on=[\"Patch\"])\n",
    "patches = patches.drop(columns=['Mat Sum'])\n",
    "\n",
    "patches = patches.fillna(0)\n",
    "\n",
    "patches.tail(3)"
   ]
  },
  {
   "cell_type": "markdown",
   "metadata": {},
   "source": [
    "##### Find material sums per furnishing category"
   ]
  },
  {
   "cell_type": "code",
   "execution_count": 45,
   "metadata": {},
   "outputs": [
    {
     "data": {
      "text/html": [
       "<div>\n",
       "<style scoped>\n",
       "    .dataframe tbody tr th:only-of-type {\n",
       "        vertical-align: middle;\n",
       "    }\n",
       "\n",
       "    .dataframe tbody tr th {\n",
       "        vertical-align: top;\n",
       "    }\n",
       "\n",
       "    .dataframe thead th {\n",
       "        text-align: right;\n",
       "    }\n",
       "</style>\n",
       "<table border=\"1\" class=\"dataframe\">\n",
       "  <thead>\n",
       "    <tr style=\"text-align: right;\">\n",
       "      <th>Category</th>\n",
       "      <th>Conservatory</th>\n",
       "      <th>Courtyard</th>\n",
       "      <th>Dining</th>\n",
       "      <th>Gallery</th>\n",
       "      <th>Hearth</th>\n",
       "      <th>Library</th>\n",
       "      <th>Lighting</th>\n",
       "      <th>Miscellaneous</th>\n",
       "      <th>Parlor</th>\n",
       "      <th>Services</th>\n",
       "      <th>Structures</th>\n",
       "      <th>Suite</th>\n",
       "      <th>Undercroft</th>\n",
       "      <th>Workshop</th>\n",
       "    </tr>\n",
       "  </thead>\n",
       "  <tbody>\n",
       "    <tr>\n",
       "      <th>Regulus</th>\n",
       "      <td>55.0</td>\n",
       "      <td>334.0</td>\n",
       "      <td>649.0</td>\n",
       "      <td>198.0</td>\n",
       "      <td>1744.0</td>\n",
       "      <td>356.0</td>\n",
       "      <td>2152.0</td>\n",
       "      <td>9.0</td>\n",
       "      <td>539.0</td>\n",
       "      <td>58.0</td>\n",
       "      <td>639.0</td>\n",
       "      <td>1096.0</td>\n",
       "      <td>522.0</td>\n",
       "      <td>711.0</td>\n",
       "    </tr>\n",
       "    <tr>\n",
       "      <th>Bast</th>\n",
       "      <td>0.0</td>\n",
       "      <td>127.0</td>\n",
       "      <td>321.0</td>\n",
       "      <td>62.0</td>\n",
       "      <td>220.0</td>\n",
       "      <td>116.0</td>\n",
       "      <td>83.0</td>\n",
       "      <td>52.0</td>\n",
       "      <td>2012.0</td>\n",
       "      <td>0.0</td>\n",
       "      <td>267.0</td>\n",
       "      <td>940.0</td>\n",
       "      <td>70.0</td>\n",
       "      <td>232.0</td>\n",
       "    </tr>\n",
       "    <tr>\n",
       "      <th>Wood</th>\n",
       "      <td>91.0</td>\n",
       "      <td>476.0</td>\n",
       "      <td>2214.0</td>\n",
       "      <td>221.0</td>\n",
       "      <td>1358.0</td>\n",
       "      <td>1265.0</td>\n",
       "      <td>499.0</td>\n",
       "      <td>10.0</td>\n",
       "      <td>699.0</td>\n",
       "      <td>28.0</td>\n",
       "      <td>710.0</td>\n",
       "      <td>2255.0</td>\n",
       "      <td>249.0</td>\n",
       "      <td>465.0</td>\n",
       "    </tr>\n",
       "  </tbody>\n",
       "</table>\n",
       "</div>"
      ],
      "text/plain": [
       "Category  Conservatory  Courtyard  Dining  Gallery  Hearth  Library  Lighting  \\\n",
       "Regulus           55.0      334.0   649.0    198.0  1744.0    356.0    2152.0   \n",
       "Bast               0.0      127.0   321.0     62.0   220.0    116.0      83.0   \n",
       "Wood              91.0      476.0  2214.0    221.0  1358.0   1265.0     499.0   \n",
       "\n",
       "Category  Miscellaneous  Parlor  Services  Structures   Suite  Undercroft  \\\n",
       "Regulus             9.0   539.0      58.0       639.0  1096.0       522.0   \n",
       "Bast               52.0  2012.0       0.0       267.0   940.0        70.0   \n",
       "Wood               10.0   699.0      28.0       710.0  2255.0       249.0   \n",
       "\n",
       "Category  Workshop  \n",
       "Regulus      711.0  \n",
       "Bast         232.0  \n",
       "Wood         465.0  "
      ]
     },
     "execution_count": 45,
     "metadata": {},
     "output_type": "execute_result"
    }
   ],
   "source": [
    "# group by category and find the sum of each, & swap rows/columns\n",
    "cat_sum = plans.groupby([\"Category\"]).sum(numeric_only=True)\n",
    "cat_sum = cat_sum.transpose()\n",
    "\n",
    "# remove mat sum column\n",
    "cat_sum = cat_sum.drop(\"Mat Sum\")\n",
    "\n",
    "# get unique category names and sort alphabetically\n",
    "categories = pd.unique(plans[\"Category\"])\n",
    "categories.sort()\n",
    "\n",
    "# fix order of mats to match other dataframes\n",
    "cat_sum = cat_sum.reindex(list(mat_names.values()))\n",
    "\n",
    "cat_sum.head(3)"
   ]
  },
  {
   "cell_type": "markdown",
   "metadata": {},
   "source": [
    "## Visualizations"
   ]
  },
  {
   "cell_type": "code",
   "execution_count": 46,
   "metadata": {},
   "outputs": [],
   "source": [
    "# plot formatting\n",
    "plt.rcParams[\"figure.dpi\"] = 150\n",
    "\n",
    "# pie chart wedge colors\n",
    "colors = {\n",
    "    \"regulus\": \"#98CABB\",\n",
    "    \"bast\": '#E9D985',\n",
    "    \"wood\": \"#ff6d00\",\n",
    "    \"ochre\": \"#C4D9CE\",\n",
    "    \"resin\": \"#eef0d0\",\n",
    "    \"rune\": \"#46B0B1\",\n",
    "    \"wax\": \"#F4B34E\",\n",
    "    \"pelt\": \"#DBE3CE\",\n",
    "}\n",
    "\n",
    "# pie chart\n",
    "pie = {\"labeldistance\": None, \"radius\": 1}\n",
    "\n",
    "# value for pie chart explode values\n",
    "explode = 0.05\n",
    "\n",
    "# pie chart legend\n",
    "legend = {\n",
    "    \"facecolor\": None,\n",
    "    \"edgecolor\": None,\n",
    "    \"fontsize\": 6,\n",
    "    \"labelcolor\": \"#436161\",\n",
    "    \"framealpha\": 0,\n",
    "    \"ncol\": 8,\n",
    "    \"loc\": \"lower center\"\n",
    "}\n",
    "\n",
    "# plot titles etc\n",
    "titlefnt = {\"fontsize\": 8, \"color\": \"slategray\"}\n",
    "\n",
    "# text for number of plans at center of pie charts\n",
    "countfnt = {\n",
    "    \"color\": \"#436161\",\n",
    "    \"horizontalalignment\": \"center\",\n",
    "    \"verticalalignment\": \"center\",\n",
    "    \"alpha\": 0.3,\n",
    "}\n",
    "\n",
    "# horizontal bar chart plan total labels\n",
    "bar_text = {\"va\": \"center\", \"ha\": \"left\", \"size\": 8, \"c\": colors['rune'], 'weight':'semibold'}\n",
    "\n",
    "# plans over time patch name\n",
    "bar_text2 = {\n",
    "    'ha':'left', \n",
    "    'va':'center', \n",
    "    'c':'slategray', \n",
    "    'style':'oblique',\n",
    "    'size':8,\n",
    "    'alpha':0.8\n",
    "}\n",
    "\n",
    "# bar chart yearly totals\n",
    "bar_text3 = {\n",
    "    'size':50, \n",
    "    'c':'#8fa3a3', \n",
    "    'weight':'black', \n",
    "    'ha':'right', \n",
    "    'va':'center', \n",
    "    'alpha':0.25}\n",
    "\n",
    "# start and end dates for plans over time bar chart\n",
    "xl2019 = datetime(2017,1,1,0,0,0)\n",
    "xr2022 = datetime(2022,12,31,0,0,0)"
   ]
  },
  {
   "cell_type": "markdown",
   "metadata": {},
   "source": [
    "### Elder Scrolls Online: Furnishing Materials Required By New Plans Per Patch *(pie charts)*"
   ]
  },
  {
   "cell_type": "markdown",
   "metadata": {},
   "source": [
    "###### Adjust data for patch plan materials pie chart."
   ]
  },
  {
   "cell_type": "code",
   "execution_count": 47,
   "metadata": {},
   "outputs": [],
   "source": [
    "chart_cols = [\"Patch\", \"Regulus\", \"Bast\", \"Wood\", \"Ochre\", \"Resin\", \"Rune\", \"Wax\", \"Pelt\"]\n",
    "\n",
    "# keep patch names and mat sums only\n",
    "mats_sum = patches[chart_cols]\n",
    "mats_sum = mats_sum.set_index(\"Patch\")\n",
    "\n",
    "# set mats as row index, and patches as columns\n",
    "mats_sum = mats_sum.transpose()\n",
    "\n",
    "# keep patch names and total plans only\n",
    "total_plans = patches[[\"Patch\", \"Plans\"]]\n",
    "total_plans = total_plans.set_index(\"Patch\")"
   ]
  },
  {
   "cell_type": "code",
   "execution_count": 48,
   "metadata": {},
   "outputs": [
    {
     "data": {
      "image/png": "[encoded data removed]",
      "text/plain": [
       "<Figure size 1200x750 with 21 Axes>"
      ]
     },
     "metadata": {},
     "output_type": "display_data"
    }
   ],
   "source": [
    "# pie charts for each update\n",
    "fig, axs = plt.subplots(4, 6, dpi=150, figsize=(8,5), facecolor=\"w\")\n",
    "plt.subplots_adjust(hspace=0.1, wspace=-0.3)\n",
    "fig.suptitle(\"elder scrolls online: housing materials used by new furnishing plans per patch\", **titlefnt)\n",
    "\n",
    "# remove patches with 0 plans\n",
    "pie_mats = mats_sum.loc[:, mats_sum.sum(axis=0) > 0]\n",
    "\n",
    "updates = list(pie_mats.columns)\n",
    "labels = colors.keys()\n",
    "\n",
    "# create list for chart explode\n",
    "expl = [explode] * len(colors.keys())\n",
    "\n",
    "for update, ax in zip(updates, axs.ravel()):\n",
    "    pie_mats[update].plot.pie(\n",
    "        ax=ax,\n",
    "        labels=list(pie_mats.index),\n",
    "        explode=expl,\n",
    "        colors=[colors[key.lower()] for key in labels],\n",
    "        wedgeprops=dict(width=0.55),\n",
    "        **pie,\n",
    "    )\n",
    "\n",
    "    ax.set_title(label=update, style=\"italic\", y=0.92, **titlefnt)\n",
    "    ax.set_ylabel(\"\")\n",
    "\n",
    "    # label for number of plans at center of chart\n",
    "    ax.text(\n",
    "        x=-0,\n",
    "        y=0.05,\n",
    "        s=str(int(total_plans.at[update, \"Plans\"])),\n",
    "        weight=\"semibold\",\n",
    "        size=14,\n",
    "        **countfnt,\n",
    "    )\n",
    "    # 'plans' under value at center of chart\n",
    "    ax.text(x=0.01, y=-0.22, s=\"plans\", size=8, weight=\"light\", **countfnt)\n",
    "\n",
    "plt.figlegend(labels=labels, bbox_to_anchor=(0.51, 0.04), **legend)\n",
    "\n",
    "# remove empty plots\n",
    "fig.delaxes(axs[3][3])\n",
    "fig.delaxes(axs[3][4])\n",
    "fig.delaxes(axs[3][5])\n",
    "\n",
    "fig.savefig('figures/ESOPlanMats_patches.png', bbox_inches='tight')"
   ]
  },
  {
   "cell_type": "markdown",
   "metadata": {},
   "source": [
    "### Elder Scrolls Online: Housing Materials Used By Furnishing Plans Per Category *(pie charts)*"
   ]
  },
  {
   "cell_type": "code",
   "execution_count": 49,
   "metadata": {},
   "outputs": [
    {
     "data": {
      "image/png": "[encoded data removed]",
      "text/plain": [
       "<Figure size 1200x750 with 14 Axes>"
      ]
     },
     "metadata": {},
     "output_type": "display_data"
    }
   ],
   "source": [
    "fig, axs = plt.subplots(4, 4, dpi=150, figsize=(8, 5), facecolor=\"w\")\n",
    "plt.subplots_adjust(hspace=0.1, wspace=-0.3)\n",
    "fig.suptitle(\"elder scrolls online: housing materials used by furnishing plans per category\", **titlefnt)\n",
    "\n",
    "# create list for chart explode\n",
    "expl = [explode] * len(colors.keys())\n",
    "\n",
    "# make a pie chart for each category's materials\n",
    "for cat, ax in zip(categories, axs.ravel()):\n",
    "    cat_sum[cat].plot.pie(\n",
    "        ax=ax,\n",
    "        labels=list(cat_sum.index),\n",
    "        explode=expl,\n",
    "        colors=[colors[key] for key in labels],\n",
    "        **pie,\n",
    "    )\n",
    "    ax.set_title(label=cat, y=0.9, **titlefnt)\n",
    "    ax.set_ylabel(\"\")\n",
    "\n",
    "plt.figlegend(labels=labels, bbox_to_anchor=(0.51, 0.04), **legend)\n",
    "\n",
    "second = axs[3][1].get_position()\n",
    "third = axs[3][2].get_position()\n",
    "\n",
    "# move last row of plots 1 space to the right\n",
    "axs[3][0].set_position(second)\n",
    "axs[3][1].set_position(third)\n",
    "\n",
    "# remove empty plots\n",
    "fig.delaxes(axs[3][2])\n",
    "fig.delaxes(axs[3][3])\n",
    "\n",
    "fig.savefig('figures/ESOPlanMats_cat.png', bbox_inches='tight')"
   ]
  },
  {
   "cell_type": "markdown",
   "metadata": {},
   "source": [
    "### Elder Scrolls Online: Furnishing Plans Added Per Patch *(horizontal bar chart)*"
   ]
  },
  {
   "cell_type": "code",
   "execution_count": 50,
   "metadata": {},
   "outputs": [
    {
     "data": {
      "image/png": "[encoded data removed]",
      "text/plain": [
       "<Figure size 600x1050 with 1 Axes>"
      ]
     },
     "metadata": {},
     "output_type": "display_data"
    }
   ],
   "source": [
    "plt.style.use('seaborn')\n",
    "\n",
    "# create a horizontal bar chart of the number of plans released per patch\n",
    "x = patches[\"Release\"]\n",
    "y = patches[\"Plans\"]\n",
    "\n",
    "fig, ax = plt.subplots(figsize=(4, 7))\n",
    "\n",
    "ax.set_title(\"elder scrolls online: furnishing plans per patch / year\", **titlefnt)\n",
    "ax.barh(x, y, height=70, color='#a9d6d6', align=\"center\", alpha=0.75)\n",
    "\n",
    "ax.set_xlim(0, 280)\n",
    "ax.set_ylim(xl2019, xr2022)\n",
    "ax.set_xlabel('plans added', c='slategray', style='italic', size=8)\n",
    "ax.yaxis.set_major_formatter(mdates.DateFormatter(\"%Y\"))  # xtick label format\n",
    "ax.tick_params(labelsize=8, labelcolor=\"slategrey\", size=0)\n",
    "\n",
    "for patch, release in zip(patches['Patch'], patches['Release']):\n",
    "    ax.text(y=release, x=3, s=patch.lower(), **bar_text2)\n",
    "\n",
    "year_sums = patches.groupby(patches['Release'].dt.year)['Plans'].sum()\n",
    "\n",
    "for year in list(year_sums.index):\n",
    "    ax.text(y=datetime(year,6,15,0,0,0), x=275, s=str(int(year_sums[year])), **bar_text3)\n",
    "\n",
    "fig.savefig('figures/ESOPlanMats_year.png', bbox_inches='tight')"
   ]
  }
 ],
 "metadata": {
  "kernelspec": {
   "display_name": "Python 3 (ipykernel)",
   "language": "python",
   "name": "python3"
  },
  "language_info": {
   "codemirror_mode": {
    "name": "ipython",
    "version": 3
   },
   "file_extension": ".py",
   "mimetype": "text/x-python",
   "name": "python",
   "nbconvert_exporter": "python",
   "pygments_lexer": "ipython3",
   "version": "3.9.15"
  },
  "vscode": {
   "interpreter": {
    "hash": "4072f50412edbe39d167add116e41ec084f0b85a282128b6471fec7909687d11"
   }
  }
 },
 "nbformat": 4,
 "nbformat_minor": 2
}
